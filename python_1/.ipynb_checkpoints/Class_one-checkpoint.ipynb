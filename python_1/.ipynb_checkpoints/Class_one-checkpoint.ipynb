{
 "cells": [
  {
   "cell_type": "code",
   "execution_count": 2,
   "id": "58b30b8b",
   "metadata": {
    "scrolled": true
   },
   "outputs": [
    {
     "name": "stdout",
     "output_type": "stream",
     "text": [
      "Hello class\n"
     ]
    }
   ],
   "source": [
    "print(\"Hello class\")"
   ]
  },
  {
   "cell_type": "code",
   "execution_count": 3,
   "id": "d0c25d9a",
   "metadata": {},
   "outputs": [
    {
     "name": "stdout",
     "output_type": "stream",
     "text": [
      "<class 'str'>\n"
     ]
    }
   ],
   "source": [
    "print(type(\"hello class!\"))"
   ]
  },
  {
   "cell_type": "code",
   "execution_count": 4,
   "id": "a48d6144",
   "metadata": {},
   "outputs": [
    {
     "name": "stdout",
     "output_type": "stream",
     "text": [
      "my name is Eyo Okon and i am 12 years old!\n"
     ]
    }
   ],
   "source": [
    "print(\"my name is Eyo Okon and i am 12 years old!\")"
   ]
  },
  {
   "cell_type": "code",
   "execution_count": 5,
   "id": "749d24f9",
   "metadata": {},
   "outputs": [
    {
     "name": "stdout",
     "output_type": "stream",
     "text": [
      "5051\n"
     ]
    }
   ],
   "source": [
    "print(\"50\" + \"51\")"
   ]
  },
  {
   "cell_type": "code",
   "execution_count": 6,
   "id": "f51a46e0",
   "metadata": {},
   "outputs": [
    {
     "name": "stdout",
     "output_type": "stream",
     "text": [
      "13.9\n"
     ]
    }
   ],
   "source": [
    "print(10.9 + 3)"
   ]
  },
  {
   "cell_type": "code",
   "execution_count": 7,
   "id": "1b59886c",
   "metadata": {},
   "outputs": [
    {
     "name": "stdout",
     "output_type": "stream",
     "text": [
      "True\n"
     ]
    }
   ],
   "source": [
    "print(5==5)"
   ]
  },
  {
   "cell_type": "code",
   "execution_count": 8,
   "id": "53e8d623",
   "metadata": {},
   "outputs": [
    {
     "name": "stdout",
     "output_type": "stream",
     "text": [
      "<class 'str'>\n"
     ]
    }
   ],
   "source": [
    "print(type(\"true\"))"
   ]
  },
  {
   "cell_type": "code",
   "execution_count": 9,
   "id": "0a0477ac",
   "metadata": {},
   "outputs": [
    {
     "name": "stdout",
     "output_type": "stream",
     "text": [
      "True\n"
     ]
    }
   ],
   "source": [
    "print(10==(2*5))"
   ]
  },
  {
   "cell_type": "code",
   "execution_count": 10,
   "id": "4bc30bf4",
   "metadata": {},
   "outputs": [
    {
     "name": "stdout",
     "output_type": "stream",
     "text": [
      "<class 'bool'>\n"
     ]
    }
   ],
   "source": [
    "print(type(True))"
   ]
  },
  {
   "cell_type": "code",
   "execution_count": 11,
   "id": "c07f917e",
   "metadata": {},
   "outputs": [
    {
     "name": "stdout",
     "output_type": "stream",
     "text": [
      "<class 'float'>\n"
     ]
    }
   ],
   "source": [
    "print(type(10.01))"
   ]
  },
  {
   "cell_type": "code",
   "execution_count": 12,
   "id": "c56dd23d",
   "metadata": {},
   "outputs": [
    {
     "ename": "KeyboardInterrupt",
     "evalue": "Interrupted by user",
     "output_type": "error",
     "traceback": [
      "\u001b[1;31m---------------------------------------------------------------------------\u001b[0m",
      "\u001b[1;31mKeyboardInterrupt\u001b[0m                         Traceback (most recent call last)",
      "\u001b[1;32m~\\AppData\\Local\\Temp/ipykernel_13124/4280029108.py\u001b[0m in \u001b[0;36m<module>\u001b[1;34m\u001b[0m\n\u001b[1;32m----> 1\u001b[1;33m \u001b[0mname\u001b[0m \u001b[1;33m=\u001b[0m \u001b[0minput\u001b[0m\u001b[1;33m(\u001b[0m\u001b[1;34m\"enter your name here: \"\u001b[0m\u001b[1;33m)\u001b[0m\u001b[1;33m\u001b[0m\u001b[1;33m\u001b[0m\u001b[0m\n\u001b[0m\u001b[0;32m      2\u001b[0m \u001b[0mage\u001b[0m \u001b[1;33m=\u001b[0m \u001b[0minput\u001b[0m\u001b[1;33m(\u001b[0m\u001b[1;34m\"enter your age here: \"\u001b[0m\u001b[1;33m)\u001b[0m\u001b[1;33m\u001b[0m\u001b[1;33m\u001b[0m\u001b[0m\n\u001b[0;32m      3\u001b[0m \u001b[0mprint\u001b[0m\u001b[1;33m(\u001b[0m\u001b[1;34mf\"My name is, {name} and i am {age} years old!\"\u001b[0m\u001b[1;33m)\u001b[0m\u001b[1;33m\u001b[0m\u001b[1;33m\u001b[0m\u001b[0m\n",
      "\u001b[1;32m~\\anaconda3\\lib\\site-packages\\ipykernel\\kernelbase.py\u001b[0m in \u001b[0;36mraw_input\u001b[1;34m(self, prompt)\u001b[0m\n\u001b[0;32m   1004\u001b[0m                 \u001b[1;34m\"raw_input was called, but this frontend does not support input requests.\"\u001b[0m\u001b[1;33m\u001b[0m\u001b[1;33m\u001b[0m\u001b[0m\n\u001b[0;32m   1005\u001b[0m             )\n\u001b[1;32m-> 1006\u001b[1;33m         return self._input_request(\n\u001b[0m\u001b[0;32m   1007\u001b[0m             \u001b[0mstr\u001b[0m\u001b[1;33m(\u001b[0m\u001b[0mprompt\u001b[0m\u001b[1;33m)\u001b[0m\u001b[1;33m,\u001b[0m\u001b[1;33m\u001b[0m\u001b[1;33m\u001b[0m\u001b[0m\n\u001b[0;32m   1008\u001b[0m             \u001b[0mself\u001b[0m\u001b[1;33m.\u001b[0m\u001b[0m_parent_ident\u001b[0m\u001b[1;33m[\u001b[0m\u001b[1;34m\"shell\"\u001b[0m\u001b[1;33m]\u001b[0m\u001b[1;33m,\u001b[0m\u001b[1;33m\u001b[0m\u001b[1;33m\u001b[0m\u001b[0m\n",
      "\u001b[1;32m~\\anaconda3\\lib\\site-packages\\ipykernel\\kernelbase.py\u001b[0m in \u001b[0;36m_input_request\u001b[1;34m(self, prompt, ident, parent, password)\u001b[0m\n\u001b[0;32m   1049\u001b[0m             \u001b[1;32mexcept\u001b[0m \u001b[0mKeyboardInterrupt\u001b[0m\u001b[1;33m:\u001b[0m\u001b[1;33m\u001b[0m\u001b[1;33m\u001b[0m\u001b[0m\n\u001b[0;32m   1050\u001b[0m                 \u001b[1;31m# re-raise KeyboardInterrupt, to truncate traceback\u001b[0m\u001b[1;33m\u001b[0m\u001b[1;33m\u001b[0m\u001b[0m\n\u001b[1;32m-> 1051\u001b[1;33m                 \u001b[1;32mraise\u001b[0m \u001b[0mKeyboardInterrupt\u001b[0m\u001b[1;33m(\u001b[0m\u001b[1;34m\"Interrupted by user\"\u001b[0m\u001b[1;33m)\u001b[0m \u001b[1;32mfrom\u001b[0m \u001b[1;32mNone\u001b[0m\u001b[1;33m\u001b[0m\u001b[1;33m\u001b[0m\u001b[0m\n\u001b[0m\u001b[0;32m   1052\u001b[0m             \u001b[1;32mexcept\u001b[0m \u001b[0mException\u001b[0m\u001b[1;33m:\u001b[0m\u001b[1;33m\u001b[0m\u001b[1;33m\u001b[0m\u001b[0m\n\u001b[0;32m   1053\u001b[0m                 \u001b[0mself\u001b[0m\u001b[1;33m.\u001b[0m\u001b[0mlog\u001b[0m\u001b[1;33m.\u001b[0m\u001b[0mwarning\u001b[0m\u001b[1;33m(\u001b[0m\u001b[1;34m\"Invalid Message:\"\u001b[0m\u001b[1;33m,\u001b[0m \u001b[0mexc_info\u001b[0m\u001b[1;33m=\u001b[0m\u001b[1;32mTrue\u001b[0m\u001b[1;33m)\u001b[0m\u001b[1;33m\u001b[0m\u001b[1;33m\u001b[0m\u001b[0m\n",
      "\u001b[1;31mKeyboardInterrupt\u001b[0m: Interrupted by user"
     ]
    }
   ],
   "source": [
    "name = input(\"enter your name here: \")\n",
    "age = input(\"enter your age here: \")\n",
    "print(f\"My name is, {name} and i am {age} years old!\")"
   ]
  },
  {
   "cell_type": "code",
   "execution_count": null,
   "id": "a309192d",
   "metadata": {},
   "outputs": [],
   "source": [
    "a = 10\n",
    "b = 25\n",
    "##pythagoras theorem\n",
    "c = ((a**2) + (b**2))**(1/2)\n",
    "print(round(c, 3))"
   ]
  },
  {
   "cell_type": "code",
   "execution_count": null,
   "id": "76ac7714",
   "metadata": {},
   "outputs": [],
   "source": [
    "print(4**(1/3))"
   ]
  },
  {
   "cell_type": "code",
   "execution_count": null,
   "id": "3aff9599",
   "metadata": {},
   "outputs": [],
   "source": [
    "name = input(\"enter name: \")\n",
    "yb = float(input(\"enter year of birth: \"))\n",
    "print(f\"my name is {name} and i am {2023-yb} years old\")"
   ]
  },
  {
   "cell_type": "code",
   "execution_count": null,
   "id": "15217b27",
   "metadata": {},
   "outputs": [],
   "source": [
    "name = input(\"enter name: \")\n",
    "yb = int(input(\"enter year of birth: \"))\n",
    "print(f\"my name is {name} and i am {2023-yb} years old\")"
   ]
  },
  {
   "cell_type": "markdown",
   "id": "4cf77081",
   "metadata": {},
   "source": [
    "# Conditionals"
   ]
  },
  {
   "cell_type": "code",
   "execution_count": null,
   "id": "329e6ef4",
   "metadata": {},
   "outputs": [],
   "source": [
    "temp = float(input(\"enter temperature value: \"))\n",
    "if temp > 20:\n",
    "    print(\"temperature is very high\")\n",
    "elif temp >=10 and temp <=18:\n",
    "    print(\"temperature is moderate\")\n",
    "elif temp >=1 and temp <8:\n",
    "    print(\"temperature is quite lowe\")\n",
    "elif temp <= 0:\n",
    "    print(\"extremely deadly temperature\")\n",
    "else:\n",
    "    print(\"input not understood\")\n",
    "    "
   ]
  },
  {
   "cell_type": "code",
   "execution_count": null,
   "id": "9286a710",
   "metadata": {},
   "outputs": [],
   "source": [
    "age = int(input(\"enter age: \"))\n",
    "sex = input(\"enter sex: \").lower()\n",
    "\n",
    "if age >= 20:\n",
    "    if sex == \"f\":\n",
    "        print(\"an adult female\")\n",
    "    elif sex == \"m\":\n",
    "        print(\"an adult male\")\n",
    "        \n",
    "elif age >= 13 and age <= 19:\n",
    "    if sex == \"f\":\n",
    "        print(\"a teenage female\")\n",
    "    elif sex == \"m\":\n",
    "        print(\"a teenage male\")\n",
    "        \n",
    "elif age <= 12:\n",
    "    if sex == \"f\":\n",
    "        print(\"a child female\")\n",
    "    elif sex == \"m\":\n",
    "        print(\"a child male\")\n",
    "        \n",
    "else:\n",
    "    print(\"No input available\")"
   ]
  },
  {
   "cell_type": "markdown",
   "id": "02ba2282",
   "metadata": {},
   "source": [
    "# Tempearture conversion"
   ]
  },
  {
   "cell_type": "code",
   "execution_count": null,
   "id": "7b5e6382",
   "metadata": {},
   "outputs": [],
   "source": [
    "temp_value = float(input(\"enter temperature value here: \"))\n",
    "unit = input(\"enter unit->f/c: \").lower()\n",
    "\n",
    "if unit == \"f\":\n",
    "    temp = (temp_value - 32) * (5/9)\n",
    "    if temp <= 100:\n",
    "        kel = 273 + temp\n",
    "        print(f\"the temperature value of {temp_value} fahrenhiet is {round(kel, 3)} kelvin\")\n",
    "    else:\n",
    "        print(f\"the temperature value of {temp_value} fahrenhiet is {round(temp, 3)} celcuis\")\n",
    "        \n",
    "elif unit == \"c\":\n",
    "    temp = (temp_value * (9/5)) + 32\n",
    "    print(f\"the temperature value of {temp_value} celcius is {round(temp, 3)} fahrenheit\")\n",
    "else:\n",
    "    print(\"input not understood\")"
   ]
  },
  {
   "cell_type": "markdown",
   "id": "c8ce8151",
   "metadata": {},
   "source": [
    "# ASSIGNMENT_ONE"
   ]
  },
  {
   "cell_type": "markdown",
   "id": "67d9f53c",
   "metadata": {},
   "source": [
    "# Question_1\n",
    "BMI --> BODY MASS INDEX\n",
    "range of value that constitutes high, low and average"
   ]
  },
  {
   "cell_type": "code",
   "execution_count": null,
   "id": "41a4bc75",
   "metadata": {},
   "outputs": [],
   "source": [
    "height = float(input(\"Enter your height in cm: \"))\n",
    "weight = float(input(\"Enter your weight in kg: \"))\n",
    "\n",
    "BMI = weight / (height/100)**2 #converting cemeters to meters\n",
    "\n",
    "print(f\"You BMI is {BMI}\") #printing body mass index\n",
    "\n",
    "if BMI <= 18.4:\n",
    "    print(\"You are underweight or low.\")\n",
    "elif BMI <= 24.9:\n",
    "    print(\"You are healthy. average\")\n",
    "elif BMI <= 29.9: \n",
    "    print(\"You are over weight. high\")\n",
    "elif BMI <= 34.9:\n",
    "    print(\"You are severely over weight.\")\n",
    "elif BMI <= 39.9:\n",
    "    print(\"You are obesity.\")\n",
    "else:\n",
    "    print(\"You are severely obesity.\")"
   ]
  },
  {
   "cell_type": "code",
   "execution_count": null,
   "id": "985e1209",
   "metadata": {},
   "outputs": [],
   "source": [
    "weight = float(input(\"enter weight value: \"))\n",
    "height = float(input(\"enter height value: \"))\n",
    "unit_weight = input(\"enter unit for weight: \").lower()\n",
    "unit_height = input(\"enter unit for height: \").lower()\n",
    "bmi = (weight/10)/(height**2)\n",
    "\n",
    "if unit_weight == \"n\" and unit_height == \"m\":\n",
    "    if bmi >=25:\n",
    "        print(f\"my bmi is {bmi} and it is high!\")\n",
    "    elif bmi >=18 and bmi<= 24.9:\n",
    "        print(f\"my bmis is {bmi} and itis average\")\n",
    "    else:\n",
    "        print(f\"this is my bmi value = {bmi} and it is low\")\n",
    "\n",
    "\n",
    "else:\n",
    "    print(\"Unit not defined in the program!\")\n",
    "        \n",
    "# if unit_weight == \"p\" and unit_height == \"ft\":\n",
    "#     if bmi >=29:\n",
    "#         print(\"your bmi is high\")\n",
    "#     elif bmi >=15 and bmi<= 28:\n",
    "#         print(\"your bmi is average\")\n",
    "#     else:\n",
    "#         print(f\"this is my bmi value = {bmi} and it is low\")"
   ]
  },
  {
   "cell_type": "code",
   "execution_count": null,
   "id": "59f18cd0",
   "metadata": {},
   "outputs": [],
   "source": [
    "\n",
    "weight = float(input(\"enter weight value (kg): \"))\n",
    "height = float(input(\"enter height value(m): \"))\n",
    "unit_weight = input(\"enter unit for weight: \").lower()\n",
    "unit_height = input(\"enter unit for height: \").lower()\n",
    "##bmi = (weight/10)/(height**2)\n",
    "\n",
    "if unit_weight == \"n\" and unit_height == \"m\":\n",
    "    bmi = (weight*10)/(height**2)\n",
    "    if bmi >=25:\n",
    "        print(f\"my bmi is {bmi} and it is high!\")\n",
    "    elif bmi >=18 and bmi<= 24.9:\n",
    "        print(f\"my bmis is {bmi} and itis average\")\n",
    "    else:\n",
    "        print(f\"this is my bmi value = {bmi} and it is low\")\n",
    "    \n",
    "##Convert     \n",
    "elif unit_weight == \"p\" and unit_height == \"ft\":\n",
    "    bmi = (weight * 2.2046) / ((height*3.28084)**2)\n",
    "    print(f\"{bmi}\")\n",
    "    \n",
    "else:\n",
    "    print(\"Unit not defined in the program!\")\n",
    "    "
   ]
  },
  {
   "cell_type": "markdown",
   "id": "d70a5ecd",
   "metadata": {},
   "source": [
    "# List and Arrays"
   ]
  },
  {
   "cell_type": "code",
   "execution_count": null,
   "id": "a9373b60",
   "metadata": {},
   "outputs": [],
   "source": [
    "x = True\n",
    "b = [\"ada\", \"tobi\", 25, True, False, \"James\", \"Ben\", \"dan\",]\n",
    "print(type(b))"
   ]
  },
  {
   "cell_type": "code",
   "execution_count": null,
   "id": "a2407145",
   "metadata": {},
   "outputs": [],
   "source": [
    "print(b)"
   ]
  },
  {
   "cell_type": "code",
   "execution_count": null,
   "id": "166e8950",
   "metadata": {},
   "outputs": [],
   "source": [
    "len(b[5])"
   ]
  },
  {
   "cell_type": "code",
   "execution_count": null,
   "id": "58b55043",
   "metadata": {},
   "outputs": [],
   "source": [
    "b[2:]"
   ]
  },
  {
   "cell_type": "code",
   "execution_count": null,
   "id": "15beb7e7",
   "metadata": {},
   "outputs": [],
   "source": [
    "index_values = b.index(\"James\")\n",
    "index_values"
   ]
  },
  {
   "cell_type": "code",
   "execution_count": null,
   "id": "d42fb080",
   "metadata": {},
   "outputs": [],
   "source": [
    "pos = b.index(25)\n",
    "after = b[pos+1:]\n",
    "print(after)"
   ]
  },
  {
   "cell_type": "code",
   "execution_count": null,
   "id": "e8823c52",
   "metadata": {},
   "outputs": [],
   "source": [
    "pos = b.index(25)\n",
    "print(pos)\n"
   ]
  },
  {
   "cell_type": "code",
   "execution_count": null,
   "id": "607e943c",
   "metadata": {},
   "outputs": [],
   "source": [
    "after = b[pos+1:]\n",
    "print(after)"
   ]
  },
  {
   "cell_type": "code",
   "execution_count": null,
   "id": "49149afc",
   "metadata": {},
   "outputs": [],
   "source": [
    "before = b[:pos]\n",
    "print(before)"
   ]
  },
  {
   "cell_type": "markdown",
   "id": "b29c9f77",
   "metadata": {},
   "source": [
    "# class work"
   ]
  },
  {
   "cell_type": "raw",
   "id": "fc46d676",
   "metadata": {},
   "source": [
    "1. if the age to vote is from 18 and above\n",
    "2. and the condition to vote requires a pvc\n",
    "write a program that ask users for their age and if they have pvc if they do, grant them access to vote if they dont do not grant them access to vote\n",
    "question 2\n",
    "if the person is qualified to vote\n",
    "if the person is from south, east they should vote obi if the person is from north, south west vote asiwju vote atiku"
   ]
  },
  {
   "cell_type": "code",
   "execution_count": null,
   "id": "63200f84",
   "metadata": {},
   "outputs": [],
   "source": [
    "age = int(input(\"please Enter your age here: \"))\n",
    "pvc = bool(input(\"Enter True or False: \"))\n",
    "t = True\n",
    "f = False\n",
    "if age > 17 and pvc == t:\n",
    "    \n",
    "    print(\"access granted to vote\")\n",
    "    \n",
    "elif age >18 and pc == f:\n",
    "   \n",
    "    print(\"access denied to vote\")\n",
    "    \n",
    "else:\n",
    "    print(\"access denied to vote!!!\")\n",
    "\n",
    "\n"
   ]
  },
  {
   "cell_type": "raw",
   "id": "49f80a3e",
   "metadata": {},
   "source": [
    "1. if the age to vote is from 18 and above\n",
    "2. and the condition to vote requires a pvc\n",
    "write a program that ask users for their age and if they have pvc if they do, grant them access to vote if they dont do not grant them access to vote\n",
    "question 2\n",
    "if the person is qualified to vote\n",
    "if the person is from south, east they should vote obi if the person is from north, south west vote asiwju vote atiku"
   ]
  },
  {
   "cell_type": "code",
   "execution_count": null,
   "id": "3f9b9347",
   "metadata": {},
   "outputs": [],
   "source": [
    "age = int(input(\"enter age: \"))\n",
    "pvc = input(\"do you have a pvc?: \")\n",
    "voter = input(\"where is voter from?: \")\n",
    "\n",
    "if age >= 18 and pvc == \"yes\":\n",
    "    if voter == \"south-south\" or voter == \"east\":\n",
    "        print(\"vote obi\")\n",
    "    elif voter == \"north\" or voter == \"south-west\":\n",
    "        print (\"vote asiwaju!!!\")\n",
    "    else:\n",
    "        print(\"vote atiku\")\n",
    "        \n",
    "elif age < 18 and pvc == \"no\":\n",
    "    print(\"access denied to vote\")\n",
    "else:\n",
    "    print(\"access denied to vote!!!\")\n"
   ]
  },
  {
   "cell_type": "raw",
   "id": "bacbb4df",
   "metadata": {},
   "source": [
    "- if change in temperature of a house defines the \"livability\" of a house\n",
    "define t1 as input\n",
    "define t2 as input\n",
    "calculate the temperature change\n",
    "\n",
    "- if the temp is less than 0 celcius\n",
    "define kelvin by adding temperature + 273\n",
    "if temperature is greater than 500 kelvin say temperature is extremely low\n",
    "if temperature is less than 500 kelvin say temperature is moderately low\n",
    "\n",
    "\n",
    "- if the temp is greater than 0 celcius, say temperature is too high"
   ]
  },
  {
   "cell_type": "code",
   "execution_count": null,
   "id": "b1560c49",
   "metadata": {},
   "outputs": [],
   "source": [
    "t1 = float(input(\"enter t1: \"))\n",
    "t2 = float(input(\"enter t2: \"))\n",
    "temp = t2-t1\n",
    "\n",
    "if temp < 0:\n",
    "    kelvin = temp + 273\n",
    "    if kelvin > 500:\n",
    "        print(f\"{kelvin}kelvin: temperature is extremely low\")\n",
    "    elif kelvin < 500:\n",
    "        print(f\"{kelvin}kelvin: temperature is moderrately low\")\n",
    "        \n",
    "elif temp > 0:\n",
    "    print(f\"{temp}celcuis: temperature is too high\")\n",
    "    \n",
    "else:\n",
    "    print(\"inputs not understood!!!\")"
   ]
  },
  {
   "cell_type": "code",
   "execution_count": null,
   "id": "6de813eb",
   "metadata": {},
   "outputs": [],
   "source": []
  },
  {
   "cell_type": "markdown",
   "id": "92ea17f5",
   "metadata": {},
   "source": [
    "# Arrays \n",
    "-sort()\n",
    "-append()"
   ]
  },
  {
   "cell_type": "code",
   "execution_count": null,
   "id": "2922ee63",
   "metadata": {},
   "outputs": [],
   "source": [
    "a = [1, 5, 10,3]\n",
    "a.sort()\n",
    "print(a)"
   ]
  },
  {
   "cell_type": "code",
   "execution_count": null,
   "id": "ada3b701",
   "metadata": {},
   "outputs": [],
   "source": [
    "b = [6, 9, 10, 11]"
   ]
  },
  {
   "cell_type": "code",
   "execution_count": null,
   "id": "9080d74a",
   "metadata": {},
   "outputs": [],
   "source": [
    "c = a + b\n",
    "print(c)"
   ]
  },
  {
   "cell_type": "code",
   "execution_count": null,
   "id": "d8ce7f70",
   "metadata": {},
   "outputs": [],
   "source": [
    "c.append(True)\n",
    "print(c)"
   ]
  },
  {
   "cell_type": "code",
   "execution_count": null,
   "id": "9307aa3c",
   "metadata": {},
   "outputs": [],
   "source": [
    "k =[5, 10, 11]\n",
    "c.append(k)\n",
    "print(c)"
   ]
  },
  {
   "cell_type": "markdown",
   "id": "369db113",
   "metadata": {},
   "source": [
    "# Forloop"
   ]
  },
  {
   "cell_type": "code",
   "execution_count": null,
   "id": "414e083a",
   "metadata": {},
   "outputs": [],
   "source": [
    "arr = [2, 4, 7, 9, 1]\n",
    "for i in arr:\n",
    "    print(i)"
   ]
  },
  {
   "cell_type": "code",
   "execution_count": null,
   "id": "5431f828",
   "metadata": {},
   "outputs": [],
   "source": [
    "for i in arr:\n",
    "    if i%2 !=0: \n",
    "        print(i) #print all the odd number in the array \n",
    "                 #% means division sign, i stand for index"
   ]
  },
  {
   "cell_type": "code",
   "execution_count": null,
   "id": "8e10d3bb",
   "metadata": {},
   "outputs": [],
   "source": [
    "\n",
    "arr = [2, 4, 7, 9, 1]\n",
    "arr1 = []\n",
    "arr2 = []\n",
    "for i in arr:\n",
    "    if i%2 != 0:\n",
    "        arr1.append(i) \n",
    "    if i%2 == 0:\n",
    "        arr2.append(i) \n",
    "print(arr2)# print all the even number in the array\n",
    "print(arr1)# print all the odd number in the arr\n"
   ]
  },
  {
   "cell_type": "code",
   "execution_count": null,
   "id": "858db86e",
   "metadata": {},
   "outputs": [],
   "source": [
    "a = [True, False, 10, 15.5, 21, \"janeth\", \"tobi\", 9, True]\n",
    "for i in  a:\n",
    "    print(i)"
   ]
  },
  {
   "cell_type": "code",
   "execution_count": null,
   "id": "5f806c66",
   "metadata": {},
   "outputs": [],
   "source": [
    "a = [True, False, 10, 15.5, 21, \"janeth\", \"tobi\", 9, True]\n",
    "for i in  a:\n",
    "    print(a)"
   ]
  },
  {
   "cell_type": "code",
   "execution_count": null,
   "id": "3b939ee1",
   "metadata": {},
   "outputs": [],
   "source": [
    "a = [True, False, 10, 15.5, 21, \"janeth\", \"tobi\", 9, True]\n",
    "for i in  a:\n",
    "    if type(i) == bool:\n",
    "        print(i)"
   ]
  },
  {
   "cell_type": "code",
   "execution_count": null,
   "id": "735d17e2",
   "metadata": {},
   "outputs": [],
   "source": [
    "a = [True, False, 10, 15.5, 21, \"janeth\", \"tobi\", 9, True]\n",
    "for i in  a:\n",
    "    if type(i) == float:\n",
    "        print(i)"
   ]
  },
  {
   "cell_type": "code",
   "execution_count": null,
   "id": "647a8b6f",
   "metadata": {},
   "outputs": [],
   "source": [
    "print(i)"
   ]
  },
  {
   "cell_type": "code",
   "execution_count": null,
   "id": "b28a8364",
   "metadata": {},
   "outputs": [],
   "source": [
    "p = []\n",
    "for i in a:\n",
    "    if type(i) == bool:\n",
    "        p.append(i)\n",
    "print(p)"
   ]
  },
  {
   "cell_type": "code",
   "execution_count": null,
   "id": "95206252",
   "metadata": {},
   "outputs": [],
   "source": [
    "numb = [10, 16, 11, 8, 12, 5, 7, 3, 20]\n",
    "arr = []\n",
    "for i in numb:\n",
    "    if i < 10:\n",
    "        arr.append(i)\n",
    "print(arr)"
   ]
  },
  {
   "cell_type": "code",
   "execution_count": null,
   "id": "ae0baea7",
   "metadata": {},
   "outputs": [],
   "source": [
    "a = [True, False, 10, 15.5, 21, \"janeth\", \"tobi\", 9, True]\n",
    "for i in  a:\n",
    "    if type(i) == str:\n",
    "        print(i)"
   ]
  },
  {
   "cell_type": "code",
   "execution_count": null,
   "id": "30606260",
   "metadata": {},
   "outputs": [],
   "source": [
    "a = [True, False, 10, 15.5, 21, \"janeth\", \"tobi\", 9, True]\n",
    "for i in  a:\n",
    "    if type(i) == int:\n",
    "        print(i)"
   ]
  },
  {
   "cell_type": "code",
   "execution_count": null,
   "id": "1dd647c9",
   "metadata": {},
   "outputs": [],
   "source": [
    "numb = [10, 16, 11, 8, 12, 5, 7, 3, 20]\n",
    "for i in numb:\n",
    "    print(i)"
   ]
  },
  {
   "cell_type": "code",
   "execution_count": null,
   "id": "1e24ac45",
   "metadata": {},
   "outputs": [],
   "source": [
    "\n",
    "numb = [10, 16, 11, 8, 12, 5, 7, 3, 20]\n",
    "arr = []\n",
    "for i in numb:\n",
    "    if i > 10:\n",
    "        arr.append(i)\n",
    "print(arr)\n",
    "    "
   ]
  },
  {
   "cell_type": "code",
   "execution_count": null,
   "id": "043368c8",
   "metadata": {},
   "outputs": [],
   "source": [
    "\n",
    "numb = [10, 16, 11, 8, 12, 5, 7, 3, 20]\n",
    "arr = []\n",
    "for i in numb:\n",
    "    if i%2 != 0:\n",
    "        arr.append(i)\n",
    "print(arr)\n"
   ]
  },
  {
   "cell_type": "code",
   "execution_count": null,
   "id": "32e7e3db",
   "metadata": {},
   "outputs": [],
   "source": [
    "numb = [10, 16, 11, 8, 12, 5, 7, 3, 20]\n",
    "arr = []\n",
    "for i in numb:\n",
    "    if i%2 == 0:\n",
    "        arr.append(i)\n",
    "print(arr)"
   ]
  },
  {
   "cell_type": "code",
   "execution_count": null,
   "id": "65c64e5e",
   "metadata": {},
   "outputs": [],
   "source": [
    "odd_numb = []\n",
    "even_numb = []\n",
    "for i in numb:\n",
    "    if i%2 == 0:\n",
    "        even_numb.append(i)\n",
    "    elif i%2 !=0:\n",
    "        odd_numb.append(i)\n",
    "print(odd_numb)\n",
    "print(even_numb)"
   ]
  },
  {
   "cell_type": "code",
   "execution_count": null,
   "id": "a0e00d06",
   "metadata": {},
   "outputs": [],
   "source": [
    "arrays = [10, 3, 56, 76, 45, 37, 5, 10]\n",
    "print(arrays)"
   ]
  },
  {
   "cell_type": "code",
   "execution_count": null,
   "id": "73860b64",
   "metadata": {},
   "outputs": [],
   "source": [
    "for i in arrays:\n",
    "    if i == 10:\n",
    "        print(i)"
   ]
  },
  {
   "cell_type": "code",
   "execution_count": null,
   "id": "c678534e",
   "metadata": {},
   "outputs": [],
   "source": [
    "for i in enumerate(arrays):\n",
    "    print(i)"
   ]
  },
  {
   "cell_type": "code",
   "execution_count": null,
   "id": "645084b5",
   "metadata": {},
   "outputs": [],
   "source": [
    "for i, b in enumerate(arrays):\n",
    "    print(i, b)"
   ]
  },
  {
   "cell_type": "code",
   "execution_count": null,
   "id": "9feee361",
   "metadata": {},
   "outputs": [],
   "source": [
    "for i, b in enumerate(arrays):\n",
    "    if b== 10:\n",
    "        print(i)"
   ]
  },
  {
   "cell_type": "code",
   "execution_count": null,
   "id": "53f5d0ad",
   "metadata": {},
   "outputs": [],
   "source": [
    "for i in arrays:\n",
    "    if i == 10:\n",
    "        print(arrays.index(i))"
   ]
  },
  {
   "cell_type": "code",
   "execution_count": null,
   "id": "eb3123c9",
   "metadata": {},
   "outputs": [],
   "source": [
    "z = [10, 1, 3, 4]\n",
    "z.index(10)"
   ]
  },
  {
   "cell_type": "code",
   "execution_count": null,
   "id": "5438c124",
   "metadata": {},
   "outputs": [],
   "source": [
    "z = [13, 46, 56, 8, 10, 10]\n",
    "for i in z:\n",
    "    if i ==10:\n",
    "        print(z.index(i))"
   ]
  },
  {
   "cell_type": "code",
   "execution_count": null,
   "id": "2cabec8d",
   "metadata": {},
   "outputs": [],
   "source": [
    "for i, b in enumerate(z):\n",
    "    if b == 10:\n",
    "        print(i)\n",
    "    "
   ]
  },
  {
   "cell_type": "code",
   "execution_count": null,
   "id": "a41e6256",
   "metadata": {},
   "outputs": [],
   "source": [
    "k = [5, 1, 5, 10, 11, 9, 5, 1]\n",
    "\n",
    "index_values = []\n",
    "for i, b in enumerate(k):\n",
    "    if b == 5:\n",
    "        index_values.append(i)\n",
    "        print(index_values)"
   ]
  },
  {
   "cell_type": "code",
   "execution_count": null,
   "id": "3fe75456",
   "metadata": {},
   "outputs": [],
   "source": [
    "for i in enumerate(k):\n",
    "    print(i)"
   ]
  },
  {
   "cell_type": "code",
   "execution_count": null,
   "id": "0a4183ab",
   "metadata": {},
   "outputs": [],
   "source": [
    "index_values[2]"
   ]
  },
  {
   "cell_type": "code",
   "execution_count": null,
   "id": "58dff8fd",
   "metadata": {},
   "outputs": [],
   "source": [
    "print(index_values)"
   ]
  },
  {
   "cell_type": "code",
   "execution_count": null,
   "id": "e8fb89af",
   "metadata": {},
   "outputs": [],
   "source": [
    "index_values[1]"
   ]
  },
  {
   "cell_type": "code",
   "execution_count": null,
   "id": "09bcd02d",
   "metadata": {},
   "outputs": [],
   "source": [
    "k[index_values[1]+1: index_values[2]]"
   ]
  },
  {
   "cell_type": "code",
   "execution_count": null,
   "id": "4435da1e",
   "metadata": {},
   "outputs": [],
   "source": [
    "k[index_values[1]+1:index_values[2]]"
   ]
  },
  {
   "cell_type": "code",
   "execution_count": null,
   "id": "58e6ed69",
   "metadata": {},
   "outputs": [],
   "source": []
  },
  {
   "cell_type": "markdown",
   "id": "048b0ecd",
   "metadata": {},
   "source": [
    "# Assignment_2"
   ]
  },
  {
   "cell_type": "raw",
   "id": "02335ace",
   "metadata": {},
   "source": [
    "1.lists = [11, 10, 8, 12, 1, 5, 6, 8, 10, 1, 8, 22, 8, 7, 4]\n",
    "get the index values of 8.\n",
    " get all the values after the second index value of 8.\n",
    "\n",
    "2.get all the food that start with a and store it inside and array\n",
    "  foods = [\"apple\", \"quava\", \"gari\", \"beans\", \"accara\", \"acute-bones\"]"
   ]
  },
  {
   "cell_type": "code",
   "execution_count": null,
   "id": "1b23a62f",
   "metadata": {},
   "outputs": [],
   "source": [
    "lists = [11, 10, 8, 12, 1, 5, 6, 8, 10, 1, 8, 22, 8, 7, 4]\n",
    "print(lists)"
   ]
  },
  {
   "cell_type": "code",
   "execution_count": null,
   "id": "6b9e9190",
   "metadata": {},
   "outputs": [],
   "source": [
    "for i in enumerate(lists):\n",
    "    print(i)"
   ]
  },
  {
   "cell_type": "code",
   "execution_count": null,
   "id": "6e3fe117",
   "metadata": {},
   "outputs": [],
   "source": [
    "for i, b in enumerate(lists):\n",
    "    print(i, b)"
   ]
  },
  {
   "cell_type": "code",
   "execution_count": null,
   "id": "47c014a6",
   "metadata": {},
   "outputs": [],
   "source": [
    "for i, b in enumerate(lists):\n",
    "    if b == 8:\n",
    "        print(i)"
   ]
  },
  {
   "cell_type": "code",
   "execution_count": null,
   "id": "6bcdd437",
   "metadata": {},
   "outputs": [],
   "source": [
    "index_val = []\n",
    "for i, b in enumerate(lists):\n",
    "    if b == 8:\n",
    "        index_val.append(i)\n",
    "print(index_val)"
   ]
  },
  {
   "cell_type": "code",
   "execution_count": null,
   "id": "2eebd75b",
   "metadata": {},
   "outputs": [],
   "source": [
    "index_val[2]"
   ]
  },
  {
   "cell_type": "code",
   "execution_count": null,
   "id": "4446b3a7",
   "metadata": {},
   "outputs": [],
   "source": [
    "lists[index_val[1]+1:index_val[3]]"
   ]
  },
  {
   "cell_type": "code",
   "execution_count": null,
   "id": "50474a7b",
   "metadata": {},
   "outputs": [],
   "source": [
    "foods = [\"apple\", \"quava\", \"gari\", \"beans\", \"accara\", \"acute-bones\"]\n",
    "for i, b in enumerate(foods):\n",
    "    print(i, b)"
   ]
  },
  {
   "cell_type": "code",
   "execution_count": null,
   "id": "c6792db5",
   "metadata": {},
   "outputs": [],
   "source": [
    "\n",
    "foods = [\"apple\", \"quava\", \"gari\", \"beans\", \"accara\", \"acute-bones\"]\n",
    "index_vals = []\n",
    "for i, b in enumerate(foods):\n",
    "    if b == \"apple\":\n",
    "        index_vals.append(b)\n",
    "        print(index_vals)"
   ]
  },
  {
   "cell_type": "code",
   "execution_count": null,
   "id": "57dc5859",
   "metadata": {},
   "outputs": [],
   "source": [
    "a_foods = []\n",
    "for i in range(len(foods)):\n",
    "    pos = foods[i]\n",
    "    if pos[0] == \"a\":\n",
    "        a_foods.append(pos)\n",
    "print(a_foods)"
   ]
  },
  {
   "cell_type": "code",
   "execution_count": null,
   "id": "6cd5c342",
   "metadata": {},
   "outputs": [],
   "source": [
    "final_foods = []\n",
    "for i in foods:\n",
    "    if i[0] == \"a\":\n",
    "        final_foods.append(i)\n",
    "print(final_foods)"
   ]
  },
  {
   "cell_type": "raw",
   "id": "84013c15",
   "metadata": {},
   "source": [
    "3. if v is found in any of the food, print the food"
   ]
  },
  {
   "cell_type": "code",
   "execution_count": null,
   "id": "a8c95ac8",
   "metadata": {},
   "outputs": [],
   "source": [
    "for i in foods:\n",
    "    if \"v\" in i:\n",
    "        print(i)"
   ]
  },
  {
   "cell_type": "code",
   "execution_count": null,
   "id": "2cfeffb2",
   "metadata": {},
   "outputs": [],
   "source": [
    "arry = [\"tobi\", \"Caleb\", \"camy\", \"samCy\"]\n",
    "#get all the elements that has c in it"
   ]
  },
  {
   "cell_type": "code",
   "execution_count": null,
   "id": "7c652b17",
   "metadata": {},
   "outputs": [],
   "source": [
    "arry = [\"tobi\", \"Caleb\", \"camy\", \"samCy\"]\n",
    "for i in arry:\n",
    "    if \"c\" in i:\n",
    "        print(i)"
   ]
  },
  {
   "cell_type": "code",
   "execution_count": null,
   "id": "296a8171",
   "metadata": {},
   "outputs": [],
   "source": [
    "arry = [\"tobi\", \"Caleb\", \"camy\", \"samCy\"]\n",
    "\n",
    "for i, b in enumerate(arry):\n",
    "    print(i,b)"
   ]
  },
  {
   "cell_type": "code",
   "execution_count": null,
   "id": "67e0a7f4",
   "metadata": {},
   "outputs": [],
   "source": [
    "arry = [\"tobi\", \"Caleb\", \"camy\", \"samCy\"]\n",
    "arry_name = []\n",
    "for i in arry:\n",
    "    a = i.lower()\n",
    "    arry_name.append(a)\n",
    "print(arry_name)"
   ]
  },
  {
   "cell_type": "code",
   "execution_count": null,
   "id": "0ab6b1e0",
   "metadata": {},
   "outputs": [],
   "source": [
    "arry = [\"tobi\", \"Caleb\", \"camy\", \"samCy\"]\n",
    "for i in range(0, len(arry)):\n",
    "    if \"c\" in arry_name[i]:\n",
    "        print(arry[i])"
   ]
  },
  {
   "cell_type": "markdown",
   "id": "13a81f65",
   "metadata": {},
   "source": [
    "# RANGE"
   ]
  },
  {
   "cell_type": "code",
   "execution_count": null,
   "id": "ff4c6280",
   "metadata": {},
   "outputs": [],
   "source": [
    "for i in range(0, 10+1):\n",
    "    print(i, i+2)"
   ]
  },
  {
   "cell_type": "code",
   "execution_count": null,
   "id": "c266f268",
   "metadata": {},
   "outputs": [],
   "source": [
    "for i in range(0, 10+1):\n",
    "    print(i)"
   ]
  },
  {
   "cell_type": "code",
   "execution_count": null,
   "id": "27219168",
   "metadata": {},
   "outputs": [],
   "source": [
    "for i in range(0, 10):\n",
    "    print(i)"
   ]
  },
  {
   "cell_type": "code",
   "execution_count": null,
   "id": "d1e57b05",
   "metadata": {},
   "outputs": [],
   "source": [
    "arr =[10, 12 ,8, 6]\n",
    "for i in range(0, len(arr)):\n",
    "    print(i, arr[i])"
   ]
  },
  {
   "cell_type": "code",
   "execution_count": null,
   "id": "0e5711d5",
   "metadata": {},
   "outputs": [],
   "source": [
    "arr1 = [10, 15, 25, 30]\n",
    "arr2 = [14, 13, 17, 24]\n",
    "arr_diff = []\n",
    "if len(arr) == len(arr2):\n",
    "    for i in range(0, len(arr2)):\n",
    "        diff = arr2[i] - arr1[i]\n",
    "        arr_diff.append(diff)\n",
    "    print(True)\n"
   ]
  },
  {
   "cell_type": "code",
   "execution_count": null,
   "id": "c0cd08ba",
   "metadata": {},
   "outputs": [],
   "source": [
    "arr1 = [10, 15, 25, 30]\n",
    "arr2 = [14, 13, 17, 24]\n",
    "arr_diff = []\n",
    "if len(arr1) == len(arr2):\n",
    "    for i in range(0, len(arr2)):\n",
    "        diff = arr2[i] - arr1[i]\n",
    "        arr_diff.append(diff)\n",
    "print(arr_diff)\n",
    "#else:\n",
    "   # print(False)\n",
    "#print(arr_diff)"
   ]
  },
  {
   "cell_type": "code",
   "execution_count": null,
   "id": "72f85937",
   "metadata": {},
   "outputs": [],
   "source": [
    "names = [\"jude\", \"caleb\", \"hilda\", \"denim\"]\n",
    "surname =[\"emmanuel\", \"denise\", \"joe\", \"kelvin\"]\n",
    "for i in range(0, len(names)):\n",
    "    fullname = f\"{names[i]}, {surname[i]}\"\n",
    "    print(fullname)"
   ]
  },
  {
   "cell_type": "code",
   "execution_count": null,
   "id": "146eeb65",
   "metadata": {},
   "outputs": [],
   "source": [
    "names = [\"jude\", \"caleb\", \"hilda\", \"denim\"]\n",
    "surname =[\"emmanuel\", \"denise\", \"joe\", \"kelvin\"]\n",
    "all_name = []\n",
    "for i in range(0, len(names)):\n",
    "    fullname = f\"{names[i]}, {surname[i]}\"\n",
    "    #print(fullname)\n",
    "    all_name.append(fullname)\n",
    "print(all_name)"
   ]
  },
  {
   "cell_type": "markdown",
   "id": "f906e6bf",
   "metadata": {},
   "source": [
    "# Home_work"
   ]
  },
  {
   "cell_type": "code",
   "execution_count": null,
   "id": "f63233e9",
   "metadata": {},
   "outputs": [],
   "source": [
    "names = [\"jenny\", \"obi\", \"duke\"]\n",
    "second_name = [\"yola\", \"tami\", \"philips\"]\n",
    "ans = [\"Jenny Yola\", \"Obi Tami\", \"Duke Philips\"]"
   ]
  },
  {
   "cell_type": "code",
   "execution_count": null,
   "id": "8ed24868",
   "metadata": {},
   "outputs": [],
   "source": [
    "names = [\"jenny\", \"obi\", \"duke\"]\n",
    "second_name = [\"yola\", \"tami\", \"philips\"]\n",
    "arry_name = []\n",
    "for i in range(0, len(names)):\n",
    "    a = names[i][0].upper() + names[i][1:]\n",
    "    b = second_name[i][0].upper() + second_name[i][1:]\n",
    "    fullname = f\"{a} {b}\"\n",
    "    arry_name.append(fullname)\n",
    "print(arry_name)\n",
    "    \n",
    "    "
   ]
  },
  {
   "cell_type": "code",
   "execution_count": null,
   "id": "791f16ec",
   "metadata": {},
   "outputs": [],
   "source": [
    "names = [\"jenny\", \"obi\", \"duke\"]\n",
    "second_name = [\"yola\", \"tami\", \"philips\"] \n",
    "ans = [\"jennY yolA\", \"obI tamI\", \"dukE philipS\"]\n",
    " \n",
    "for i in range(0, len(second_name)):\n",
    "    a = second_name[i][-1]\n",
    "    print(a)"
   ]
  },
  {
   "cell_type": "code",
   "execution_count": null,
   "id": "70dc9026",
   "metadata": {},
   "outputs": [],
   "source": [
    "names = [\"jenny\", \"obi\", \"duke\"]\n",
    "second_name = [\"yola\", \"tami\", \"philips\"] \n",
    "ans = [\"jennY yolA\", \"obI tamI\", \"dukE philipS\"]\n",
    "arry2_name = []\n",
    "for i in range(0, len(names)):\n",
    "    a = names[i][:-1] + names[i][-1].upper()\n",
    "    b = second_name[i][:-1] + second_name[i][-1].upper()\n",
    "    fullname = f\"{a} {b}\"\n",
    "    arry2_name.append(fullname)\n",
    "print(arry2_name)\n",
    "    "
   ]
  },
  {
   "cell_type": "code",
   "execution_count": null,
   "id": "9d23a068",
   "metadata": {},
   "outputs": [],
   "source": [
    "\n",
    " arr = [10, 20, 20, 40, 21]\n",
    "b = 0\n",
    "for i in arr:\n",
    "    b = i + b\n",
    "    print(b)# printing inside the loop"
   ]
  },
  {
   "cell_type": "code",
   "execution_count": null,
   "id": "1ab39e8b",
   "metadata": {},
   "outputs": [],
   "source": [
    "\n",
    " arr = [10, 20, 20, 40, 21]\n",
    "b = 0\n",
    "for i in arr:\n",
    "    b = i + b\n",
    "print(b)# To print only the last number in the arr, you remove the print from the loop"
   ]
  },
  {
   "cell_type": "code",
   "execution_count": null,
   "id": "618f73a8",
   "metadata": {},
   "outputs": [],
   "source": [
    "\n",
    " arr = [10, 20, 20, 40, 21]\n",
    "b = 0\n",
    "for i in arr:\n",
    "    print(i + b)# is not store inside the b\n",
    "    "
   ]
  },
  {
   "cell_type": "code",
   "execution_count": null,
   "id": "0576dddb",
   "metadata": {},
   "outputs": [],
   "source": [
    "arr = [10, 20, 20, 40, 21]\n",
    "n = len(arr)\n",
    "print(n)"
   ]
  },
  {
   "cell_type": "code",
   "execution_count": null,
   "id": "038fc375",
   "metadata": {},
   "outputs": [],
   "source": [
    "arr = [10, 20, 20, 40, 21]\n",
    "n = len(arr)\n",
    "b = 0\n",
    "for i in arr:\n",
    "    b = i + b\n",
    "mean_val = b/n\n",
    "print(mean_val)"
   ]
  },
  {
   "cell_type": "code",
   "execution_count": null,
   "id": "e6be18d1",
   "metadata": {},
   "outputs": [],
   "source": [
    "arr = [10, 20, 20, 40, 21, 45,56,70]\n",
    "arr.sort()\n",
    "print(arr)"
   ]
  },
  {
   "cell_type": "code",
   "execution_count": null,
   "id": "c9ebf7dd",
   "metadata": {},
   "outputs": [],
   "source": [
    "mid = int(len(arr)/2)\n",
    "if len(arr)%2 == 0:\n",
    "    mid2 = mid - 1\n",
    "    median = (arr[mid] + arr[mid2])/2\n",
    "    print(median)\n",
    "else:\n",
    "    median = arr[mid]\n",
    "    print(median)"
   ]
  },
  {
   "cell_type": "code",
   "execution_count": null,
   "id": "749a673e",
   "metadata": {},
   "outputs": [],
   "source": [
    "mid = int(len(arr)/2)\n",
    "print(mid)"
   ]
  },
  {
   "cell_type": "code",
   "execution_count": null,
   "id": "e1cb5bd1",
   "metadata": {},
   "outputs": [],
   "source": [
    "mid2 = mid - 1\n",
    "print(mid2)"
   ]
  },
  {
   "cell_type": "code",
   "execution_count": null,
   "id": "7db84f38",
   "metadata": {},
   "outputs": [],
   "source": [
    "mid = int(len(arr)/2)\n",
    "if len(arr)%2 == 0:\n",
    "    mid2 = mid - 1\n",
    "    median = (arr[mid] + arr[mid2])/2\n",
    "    print(median)"
   ]
  },
  {
   "cell_type": "code",
   "execution_count": null,
   "id": "74135e47",
   "metadata": {},
   "outputs": [],
   "source": [
    "arr_val = [10, 16, 20, 22]\n",
    "arr_val.sort()\n",
    "print(arr_val)"
   ]
  },
  {
   "cell_type": "code",
   "execution_count": null,
   "id": "1258aaa5",
   "metadata": {},
   "outputs": [],
   "source": [
    "mid = int(len(arr_val))\n",
    "print(mid)"
   ]
  },
  {
   "cell_type": "code",
   "execution_count": null,
   "id": "cbb40556",
   "metadata": {},
   "outputs": [],
   "source": [
    "arr_val = [10, 16, 20, 22]\n",
    "mid = int(len(arr_val)/2)\n",
    "print(mid)"
   ]
  },
  {
   "cell_type": "code",
   "execution_count": null,
   "id": "0b5088cc",
   "metadata": {},
   "outputs": [],
   "source": [
    "mid = int(len(arr_val)/2)\n",
    "if len(arr)%2 == 0:\n",
    "    mid2 = mid - 1\n",
    "    median = (arr_val[mid] + arr_val[mid2])/2\n",
    "    print(median)"
   ]
  },
  {
   "cell_type": "code",
   "execution_count": null,
   "id": "a42c3528",
   "metadata": {},
   "outputs": [],
   "source": [
    "b = 0\n",
    "for i in arr_val:\n",
    "    b = i + b\n",
    "    print(b)"
   ]
  },
  {
   "cell_type": "code",
   "execution_count": null,
   "id": "88706dd1",
   "metadata": {},
   "outputs": [],
   "source": [
    "b = 0\n",
    "for i in arr_val:\n",
    "    b = i + b\n",
    "print(b)"
   ]
  },
  {
   "cell_type": "code",
   "execution_count": null,
   "id": "6f35fd32",
   "metadata": {},
   "outputs": [],
   "source": [
    "arr_diff = []\n",
    "for i in arr_val:\n",
    "    j = b - i\n",
    "    arr_diff.append(j)\n",
    "print(arr_diff)"
   ]
  },
  {
   "cell_type": "code",
   "execution_count": null,
   "id": "2355c75c",
   "metadata": {},
   "outputs": [],
   "source": [
    "arr_diff = []\n",
    "b = 0\n",
    "for i in arr_val:\n",
    "    b = b + i\n",
    "for i in arr_val:\n",
    "    j = b - i\n",
    "    arr_diff.append(j)\n",
    "print(arr_diff)"
   ]
  },
  {
   "cell_type": "code",
   "execution_count": null,
   "id": "58c1ba4d",
   "metadata": {},
   "outputs": [],
   "source": [
    "arr_diff = []\n",
    "b = 0\n",
    "for i in arr_val:\n",
    "    b = b + i\n",
    "for i in arr_val:\n",
    "    j = b-i\n",
    "    arr_diff.append(j)\n",
    "print(arr_diff)"
   ]
  },
  {
   "cell_type": "code",
   "execution_count": null,
   "id": "ba2ed459",
   "metadata": {},
   "outputs": [],
   "source": [
    "arr_val = [10, 16, 20, 22]\n",
    "n = len(arr_val)\n",
    "b = 0\n",
    "for i in arr_val:\n",
    "    b = i + b\n",
    "mean_val = b/n\n",
    "print(mean_val)"
   ]
  },
  {
   "cell_type": "code",
   "execution_count": null,
   "id": "4b4bd499",
   "metadata": {},
   "outputs": [],
   "source": [
    "arr = [\"james\", 10, 11, \"constance\", \"tobi\", 22.5, \"jeremiah\"]\n",
    "for i in arr:\n",
    "    print(i)"
   ]
  },
  {
   "cell_type": "code",
   "execution_count": null,
   "id": "232679bc",
   "metadata": {},
   "outputs": [],
   "source": [
    "arr = [\"james\", 10, 11, \"constance\", \"tobi\", 22.5, \"jeremiah\"]\n",
    "val = []\n",
    "for i in arr:\n",
    "    if type(i) == str:\n",
    "        str_len = len(i)\n",
    "        val.append(str_len)\n",
    "    else:\n",
    "        val.append(i)\n",
    "b = 0\n",
    "for i in val:\n",
    "    b = i + b\n",
    "print(b)\n",
    "    "
   ]
  },
  {
   "cell_type": "code",
   "execution_count": null,
   "id": "cc9a9939",
   "metadata": {},
   "outputs": [],
   "source": []
  },
  {
   "cell_type": "code",
   "execution_count": null,
   "id": "39295071",
   "metadata": {},
   "outputs": [],
   "source": [
    "\n",
    "arr3 = [\"tami\", \"claire\", 25, 10, \"jose\", 12.5]\n",
    "\n",
    "for i in arr3:\n",
    "    if type(i) == int or type(i) == float:\n",
    "        b = i + b\n",
    "print(b)"
   ]
  },
  {
   "cell_type": "code",
   "execution_count": null,
   "id": "85f18428",
   "metadata": {},
   "outputs": [],
   "source": [
    "arr1 = [10, 15, 21]\n",
    "arr2 = [8, 6, 10]\n",
    "if len(arr1) == len(arr2):\n",
    "    for i in range(0, len(arr1)):\n",
    "        a = arr1[i] - arr2[i]\n",
    "        print(a)\n",
    "else:\n",
    "    print(\"unequal length\") or print(\"equal lenght\")\n",
    "    "
   ]
  },
  {
   "cell_type": "code",
   "execution_count": null,
   "id": "659d67f5",
   "metadata": {},
   "outputs": [],
   "source": [
    "arr1 = [10, 15, 21]\n",
    "arr2 = [8, 6,]\n",
    "if len(arr1) == len(arr2):\n",
    "    for i in range(0, len(arr1)):\n",
    "        a = arr1[i] - arr2[i]\n",
    "        print(a)\n",
    "else:\n",
    "    k = len(arr1) -len(arr2)\n",
    "    for i in range(k):\n",
    "        arr2.append(0)\n",
    "    for i in range(0, len(arr1)):\n",
    "        d = arr1[i] - arr2[i]\n",
    "        print(d)"
   ]
  },
  {
   "cell_type": "code",
   "execution_count": null,
   "id": "3c1cd94b",
   "metadata": {},
   "outputs": [],
   "source": [
    "arr1 = [10, 15]\n",
    "arr2 = [8, 6, 10, 8, 11]\n",
    "if len(arr2) == len(arr1):\n",
    "    for i in range(0, len(arr2)):\n",
    "        a = arr2[i] - arr1[i]\n",
    "        print(a)\n",
    "else:\n",
    "    k = len(arr2) -len(arr1)\n",
    "    for i in range(k):\n",
    "        arr1.append(0)\n",
    "    for i in range(0, len(arr2)):\n",
    "        d = arr2[i] - arr1[i]\n",
    "        print(d)"
   ]
  },
  {
   "cell_type": "code",
   "execution_count": null,
   "id": "eb60054e",
   "metadata": {},
   "outputs": [],
   "source": [
    "arr1 = [10, 15]\n",
    "arr2 = [8, 6, 10, 8, 11]\n",
    "k = len(arr1) - len(arr2)\n",
    "print(k)"
   ]
  },
  {
   "cell_type": "code",
   "execution_count": null,
   "id": "13f263f6",
   "metadata": {},
   "outputs": [],
   "source": [
    "arr1 = [10, 15]\n",
    "arr2 = [8, 6, 10, 8, 11]\n",
    "k = int(str(len(arr1) - len(arr2))[1])\n",
    "print(k)"
   ]
  },
  {
   "cell_type": "markdown",
   "id": "7e54837b",
   "metadata": {},
   "source": [
    "# FACTORIAL CALCULATOR"
   ]
  },
  {
   "cell_type": "code",
   "execution_count": null,
   "id": "f04a7fff",
   "metadata": {},
   "outputs": [],
   "source": [
    "#k =10!\n",
    "fact = 4\n",
    "b = 1\n",
    "for i in range(0+1, fact+1):\n",
    "    b = i*b\n",
    "print(b)\n"
   ]
  },
  {
   "cell_type": "code",
   "execution_count": null,
   "id": "1cc87407",
   "metadata": {},
   "outputs": [],
   "source": [
    "fact = int(input(\"enter factorial_vals: \"))\n",
    "if type(fact) == int:\n",
    "    b = 1\n",
    "    for i in range(0+1, fact+1):\n",
    "        b = i * b\n",
    "    print(b)\n",
    "else:\n",
    "    print(\"Note factorialable!!!\")"
   ]
  },
  {
   "cell_type": "raw",
   "id": "edd251df",
   "metadata": {},
   "source": [
    "1. -b+ or root(b2-4ac)/2\n",
    "2. standard deviation\n",
    "2x2 + 4x - 4 = 0"
   ]
  },
  {
   "cell_type": "code",
   "execution_count": null,
   "id": "80ec83fc",
   "metadata": {},
   "outputs": [],
   "source": [
    "#import cmath\n",
    "a = int(input(\"enter the value of (a! = 0): \")) #when a is not equals to zero\n",
    "b = int(input(\"enter the value of b: \"))\n",
    "c = int(input(\"enter the value of c: \"))\n",
    "\n",
    "# to find disccriminants\n",
    "\n",
    "d = (b**2) - (4*a*c)\n",
    "\n",
    "#to find the roots\n",
    "x1 = ((-b-cmath.sqrt(d)) / (2*a))\n",
    "x2 = ((-b+cmath.sqrt(d)) / (2*a))\n",
    "print(\"the values of: \", x1,x2)\n"
   ]
  },
  {
   "cell_type": "code",
   "execution_count": null,
   "id": "5216b4a8",
   "metadata": {},
   "outputs": [],
   "source": [
    "distrb = [1, 2, 7, 8, 9, 11, 21, 15]\n",
    "sum_val = 0\n",
    "for i in distrb:\n",
    "    sum_val = i + sum_val\n",
    "print(sum_val) # the sum sum symbol is E"
   ]
  },
  {
   "cell_type": "code",
   "execution_count": null,
   "id": "b50aad00",
   "metadata": {},
   "outputs": [],
   "source": [
    "mean_val = round(sum_val/len(distrb),3)\n",
    "print(mean_val) # mean symbol is M"
   ]
  },
  {
   "cell_type": "code",
   "execution_count": null,
   "id": "15911dd0",
   "metadata": {},
   "outputs": [],
   "source": [
    "arr_distrb =[]\n",
    "for i in distrb:\n",
    "    dist = round((i - mean_val)**2, 3)\n",
    "    arr_distrb.append(dist)\n",
    "print(arr_distrb)"
   ]
  },
  {
   "cell_type": "code",
   "execution_count": null,
   "id": "0421019f",
   "metadata": {},
   "outputs": [],
   "source": [
    "sum_distrb = 0\n",
    "for i in arr_distrb:\n",
    "    sum_distrb = i + sum_distrb\n",
    "print(sum_distrb)"
   ]
  },
  {
   "cell_type": "code",
   "execution_count": null,
   "id": "38d9c8f1",
   "metadata": {},
   "outputs": [],
   "source": [
    "mean_distrb = sum_distrb/len(distrb)\n",
    "print(mean_distrb)"
   ]
  },
  {
   "cell_type": "code",
   "execution_count": null,
   "id": "f074960a",
   "metadata": {},
   "outputs": [],
   "source": [
    "std_dev = round(mean_distrb**(1/2),3)\n",
    "print(std_dev)"
   ]
  },
  {
   "cell_type": "markdown",
   "id": "fb76f534",
   "metadata": {},
   "source": [
    "# FUNCTIONS"
   ]
  },
  {
   "cell_type": "code",
   "execution_count": null,
   "id": "41cfac88",
   "metadata": {},
   "outputs": [],
   "source": [
    "# - Re-usbale block of codes"
   ]
  },
  {
   "cell_type": "code",
   "execution_count": null,
   "id": "627e1a0d",
   "metadata": {},
   "outputs": [],
   "source": [
    "# y(x) = 2x + 1\n",
    "# y(2) = 2*2 +1 = 5\n",
    "# y = 5"
   ]
  },
  {
   "cell_type": "code",
   "execution_count": null,
   "id": "dba4df64",
   "metadata": {},
   "outputs": [],
   "source": [
    "x = 2\n",
    "b = (2 * x) + 1\n",
    "print(b)"
   ]
  },
  {
   "cell_type": "code",
   "execution_count": null,
   "id": "40ecb628",
   "metadata": {},
   "outputs": [],
   "source": [
    "def y_function(x):\n",
    "    b = (2 * x) + 1\n",
    "    return b\n",
    "\n",
    "print(y_function(x=8))"
   ]
  },
  {
   "cell_type": "code",
   "execution_count": null,
   "id": "8d06a786",
   "metadata": {},
   "outputs": [],
   "source": [
    "arr_val = [2, 10, 11, 6, 9]"
   ]
  },
  {
   "cell_type": "code",
   "execution_count": null,
   "id": "b569375d",
   "metadata": {},
   "outputs": [],
   "source": [
    "sum_val = 0\n",
    "for i in arr_val:\n",
    "    sum_val = i + sum_val\n",
    "print(sum_val)"
   ]
  },
  {
   "cell_type": "code",
   "execution_count": null,
   "id": "1f79a923",
   "metadata": {},
   "outputs": [],
   "source": [
    "def sum_arr(x):\n",
    "    sum_val = 0\n",
    "    for i in x:\n",
    "        sum_val = i + sum_val\n",
    "    return sum_val\n",
    "\n",
    "arr_val = [15, 2, 10, 11, 6, 9, 11]\n",
    "print(sum_arr(x=arr_val))"
   ]
  },
  {
   "cell_type": "code",
   "execution_count": null,
   "id": "ea3bd12b",
   "metadata": {},
   "outputs": [],
   "source": [
    "###write a program that can can get the max value in array and divide it by the minimum value in that array"
   ]
  },
  {
   "cell_type": "code",
   "execution_count": null,
   "id": "3f8e8e94",
   "metadata": {},
   "outputs": [],
   "source": [
    "arr_val = [2, 10, 11, 6, 9, 21, 13, 16, 7]"
   ]
  },
  {
   "cell_type": "code",
   "execution_count": null,
   "id": "c02e8017",
   "metadata": {},
   "outputs": [],
   "source": [
    "def minimum_val(x):\n",
    "    x.sort()\n",
    "    min_val = x[0]\n",
    "    return min_val\n",
    "\n",
    "min_ = minimum_val(x=arr_val)\n",
    "print(min_)"
   ]
  },
  {
   "cell_type": "code",
   "execution_count": null,
   "id": "c4bb2cb5",
   "metadata": {},
   "outputs": [],
   "source": [
    "def maximum_val(x):\n",
    "    x.sort()\n",
    "    max_val = x[-1]\n",
    "    return max_val\n",
    "\n",
    "max_ = maximum_val(x=arr_val)\n",
    "print(max_)"
   ]
  },
  {
   "cell_type": "code",
   "execution_count": null,
   "id": "61f07e6f",
   "metadata": {},
   "outputs": [],
   "source": [
    "print(max_/min_)"
   ]
  },
  {
   "cell_type": "code",
   "execution_count": null,
   "id": "4e40abed",
   "metadata": {},
   "outputs": [],
   "source": [
    "def minimum_value(x):\n",
    "    return f\"eyo is a {x}\"\n",
    "\n",
    "print(minimum_value(x=\"boy\"))"
   ]
  },
  {
   "cell_type": "code",
   "execution_count": null,
   "id": "05159d9b",
   "metadata": {},
   "outputs": [],
   "source": [
    "arr_val = [2, 10, 11, 6, 9, 21, 13, 16, 7]\n",
    "arr_val.sort()\n",
    "print(arr_val[-1])"
   ]
  },
  {
   "cell_type": "code",
   "execution_count": null,
   "id": "1782877e",
   "metadata": {},
   "outputs": [],
   "source": [
    "def arr_maximum(arr_val):\n",
    "    arr_val.sort()\n",
    "    max_val = arr_val[-1]\n",
    "    return max_val\n",
    "\n",
    "x = [6, 7, 1, 3, 2]\n",
    "arr_maximum(arr_val=x)"
   ]
  },
  {
   "cell_type": "code",
   "execution_count": null,
   "id": "befa71b0",
   "metadata": {},
   "outputs": [],
   "source": [
    "def arr_maximum(arr_val):\n",
    "    arr_val.sort()\n",
    "    min_val = arr_val[0]\n",
    "    return min_val\n",
    "\n",
    "x = [6, 7, 1, 3, 2]\n",
    "arr_maximum(arr_val=x)"
   ]
  },
  {
   "cell_type": "code",
   "execution_count": null,
   "id": "03edc0ea",
   "metadata": {},
   "outputs": [],
   "source": [
    "arr = [1, 10, 6, 7, 11]\n",
    "\n",
    "sum_val = 0\n",
    "for i in arr:\n",
    "    sum_val = i + sum_val\n",
    "#print(sum_val)\n",
    "mean_val = sum_val/len(arr)\n",
    "print(mean_val)"
   ]
  },
  {
   "cell_type": "code",
   "execution_count": null,
   "id": "6a169988",
   "metadata": {},
   "outputs": [],
   "source": [
    "def mean_val(arr):\n",
    "    sum_val = 0\n",
    "    for i in arr:\n",
    "        sum_val = i + sum_val\n",
    "\n",
    "    mean_val = sum_val/len(arr)\n",
    "    return round(mean_val, 3)\n",
    "\n",
    "p = [8, 16, 12, 13, 2, 4]\n",
    "mean_val(arr=p)"
   ]
  },
  {
   "cell_type": "code",
   "execution_count": null,
   "id": "219913bd",
   "metadata": {},
   "outputs": [],
   "source": [
    "name1 = [\"george\",  \"philip\", \"katty\"]\n",
    "name2 = [\"akpan\", \"odiegwu\", \"johnson\"]\n",
    "\n",
    "#==> [George Akpan, Philip Odiegwu, Katty Johnson]"
   ]
  },
  {
   "cell_type": "code",
   "execution_count": null,
   "id": "3225712e",
   "metadata": {},
   "outputs": [],
   "source": [
    "final_names = []\n",
    "for i in range(0, len(name1)):\n",
    "    name1_ = name1[i][0].upper() + name1[i][1:]\n",
    "    name2_ = name2[i][0].upper() + name2[i][1:]\n",
    "    fullnames = f\"{name1_} {name2_}\"\n",
    "    final_names.append(fullnames)\n",
    "print(final_names)"
   ]
  },
  {
   "cell_type": "code",
   "execution_count": null,
   "id": "75d9c401",
   "metadata": {},
   "outputs": [],
   "source": [
    "def get_names(name1, name2):\n",
    "    final_names = []\n",
    "    for i in range(0, len(name1)):\n",
    "        name1_ = name1[i][0].upper() + name1[i][1:]\n",
    "        name2_ = name2[i][0].upper() + name2[i][1:]\n",
    "        fullnames = f\"{name1_} {name2_}\"\n",
    "        final_names.append(fullnames)\n",
    "    return final_names"
   ]
  },
  {
   "cell_type": "code",
   "execution_count": null,
   "id": "5e836a57",
   "metadata": {},
   "outputs": [],
   "source": [
    "a = [\"john\", \"zazi\"]\n",
    "b = [\"lenin\", \"faith\"]\n",
    "get_names(name1=a, name2=b)"
   ]
  },
  {
   "cell_type": "code",
   "execution_count": null,
   "id": "e6735ff6",
   "metadata": {},
   "outputs": [],
   "source": [
    "###write a function that will calculate the factorial of any integer\n",
    "### write a function that will calculate the number of vowel sound in a string"
   ]
  },
  {
   "cell_type": "code",
   "execution_count": null,
   "id": "c1e6195a",
   "metadata": {},
   "outputs": [],
   "source": [
    "# \"aeiou\"\n",
    "# str_val = \"mathew\"\n",
    "# return 2"
   ]
  },
  {
   "cell_type": "code",
   "execution_count": null,
   "id": "cd87cbfa",
   "metadata": {},
   "outputs": [],
   "source": [
    "def fact(n):\n",
    "    if n < 0:\n",
    "        return 'does not exist'# factorial doesn't exist because n is less than 0\n",
    "    elif n == 0:\n",
    "        return 1 # factorial exist because n is greater than 0 \n",
    "    else:\n",
    "        return n * fact(n-1)\n",
    "fact_val = int(input(\"Enter number: \"))\n",
    "print(fact(fact_val))"
   ]
  },
  {
   "cell_type": "code",
   "execution_count": null,
   "id": "1c02cea2",
   "metadata": {},
   "outputs": [],
   "source": [
    "vowels = [\"a\", \"e\", \"i\", \"o\", \"u\"]\n",
    "found_vowels = []\n",
    "for i in \"jane\":\n",
    "    if i in vowels:\n",
    "        found_vowels.append(i)\n",
    "print(len(found_vowels))"
   ]
  },
  {
   "cell_type": "code",
   "execution_count": null,
   "id": "6a707bbf",
   "metadata": {},
   "outputs": [],
   "source": [
    "def count_vowels(x):\n",
    "    found_vowels = []\n",
    "    vowels = \"aeiou\"\n",
    "    v_val = \"_\".join(vowels)\n",
    "    new_val = v_val.split(\"_\")\n",
    "    for i in x:\n",
    "        if i in vowels:\n",
    "            found_vowels.append(i)\n",
    "    return len(found_vowels)\n",
    "count_vowels(x =\"jane\")"
   ]
  },
  {
   "cell_type": "code",
   "execution_count": null,
   "id": "569cb9dc",
   "metadata": {},
   "outputs": [],
   "source": [
    "def number_vowels(x):\n",
    "    vowels = [\"a\", \"e\", \"i\", \"o\", \"u\"]\n",
    "    found_vowels = []\n",
    "    for i in  x:\n",
    "        if i in vowels:\n",
    "            found_vowels.append(i)\n",
    "    return len(found_vowels)\n",
    "number_vowels(x= \"ibiso\")"
   ]
  },
  {
   "cell_type": "code",
   "execution_count": null,
   "id": "134aa804",
   "metadata": {},
   "outputs": [],
   "source": [
    "b = \"ibiso\"\n",
    "c = list(set(b))\n",
    "print(c)"
   ]
  },
  {
   "cell_type": "code",
   "execution_count": null,
   "id": "30d416c3",
   "metadata": {},
   "outputs": [],
   "source": [
    "def number_vowels(x):\n",
    "    vowels = [\"a\", \"e\", \"i\", \"o\", \"u\"]\n",
    "    found_vowels = []\n",
    "    for i in  x:\n",
    "        if i in vowels:\n",
    "            found_vowels.append(i)\n",
    "    count_list = list(set(found_vowels))\n",
    "    return len(count_list)\n",
    "number_vowels(x= \"ibiso\")"
   ]
  },
  {
   "cell_type": "code",
   "execution_count": null,
   "id": "badb5f07",
   "metadata": {},
   "outputs": [],
   "source": [
    "x = [\"i\", \"b\", \"i\", \"s\", \"o\"]\n",
    "set(x)"
   ]
  },
  {
   "cell_type": "markdown",
   "id": "1a1dee1a",
   "metadata": {},
   "source": [
    "# list comprehension"
   ]
  },
  {
   "cell_type": "code",
   "execution_count": 14,
   "id": "71f8265a",
   "metadata": {},
   "outputs": [
    {
     "name": "stdout",
     "output_type": "stream",
     "text": [
      "[4, 10, 4]\n"
     ]
    }
   ],
   "source": [
    "arr = [1, 3, 4, 10, 4]\n",
    "k = []\n",
    "for i in arr:\n",
    "    if i%2 == 0:\n",
    "        k.append(i)\n",
    "print(k)"
   ]
  },
  {
   "cell_type": "code",
   "execution_count": 15,
   "id": "a46dd9c0",
   "metadata": {},
   "outputs": [
    {
     "name": "stdout",
     "output_type": "stream",
     "text": [
      "[4, 10, 4]\n",
      "[1, 3]\n"
     ]
    }
   ],
   "source": [
    "a = [i for i in arr if i%2 == 0]\n",
    "b = [i for i in arr if i%2 != 0]\n",
    "print(a)\n",
    "print(b)"
   ]
  },
  {
   "cell_type": "code",
   "execution_count": 16,
   "id": "f45be417",
   "metadata": {},
   "outputs": [
    {
     "name": "stdout",
     "output_type": "stream",
     "text": [
      "[1, 3, 4, 10, 4]\n"
     ]
    }
   ],
   "source": [
    "print(arr)"
   ]
  },
  {
   "cell_type": "code",
   "execution_count": 17,
   "id": "b77dec5d",
   "metadata": {},
   "outputs": [
    {
     "name": "stdout",
     "output_type": "stream",
     "text": [
      "[2.0, 3.16, 2.0]\n"
     ]
    }
   ],
   "source": [
    "j = [round((i**(1/2)), 2) for i in arr  if i%2 == 0]\n",
    "print(j)"
   ]
  },
  {
   "cell_type": "code",
   "execution_count": null,
   "id": "6311b6dc",
   "metadata": {},
   "outputs": [],
   "source": [
    "d = [[i*2, i/2, (i**(1/2))] for i in arr if i%2 == 0]\n",
    "print(d)"
   ]
  },
  {
   "cell_type": "code",
   "execution_count": null,
   "id": "92fe1d2a",
   "metadata": {},
   "outputs": [],
   "source": [
    "for i in d:\n",
    "    print(i)"
   ]
  },
  {
   "cell_type": "code",
   "execution_count": null,
   "id": "675cd2b3",
   "metadata": {},
   "outputs": [],
   "source": [
    "#write a function that can count the strings in an array and arrange from the highest count to the lowest counts\n",
    "# arr_str = [\"ubong\", \"eyo\", \"johnson\", 'mina']\n",
    "# ===> [\"johnson\", \"ubong\", \"mina\", \"eyo\"]"
   ]
  },
  {
   "cell_type": "code",
   "execution_count": null,
   "id": "93f46706",
   "metadata": {},
   "outputs": [],
   "source": [
    "arr_str = [\"Ubong\", \"Eyo\", \"Johnson\", \"Mina\"]\n",
    "arr_list = list(set(arr_str)) \n",
    "print(arr_list)"
   ]
  },
  {
   "cell_type": "code",
   "execution_count": null,
   "id": "cbb1be78",
   "metadata": {},
   "outputs": [],
   "source": [
    "def printsorted(arr_str):\n",
    "    print(*sorted(arr_str, key = len))\n",
    "arr_str = [\"Ubong\", \"Eyo\", \"Johnson\", \"Mina\"]\n",
    "printsorted(arr_str)\n"
   ]
  },
  {
   "cell_type": "code",
   "execution_count": null,
   "id": "20581f8a",
   "metadata": {},
   "outputs": [],
   "source": [
    "arr_str = [\"Ubong\", \"Eyo\", \"Johnson\", \"Mina\"]\n",
    "arr_str.sort()\n",
    "print(arr_str)"
   ]
  }
 ],
 "metadata": {
  "kernelspec": {
   "display_name": "Python 3 (ipykernel)",
   "language": "python",
   "name": "python3"
  },
  "language_info": {
   "codemirror_mode": {
    "name": "ipython",
    "version": 3
   },
   "file_extension": ".py",
   "mimetype": "text/x-python",
   "name": "python",
   "nbconvert_exporter": "python",
   "pygments_lexer": "ipython3",
   "version": "3.9.7"
  }
 },
 "nbformat": 4,
 "nbformat_minor": 5
}
