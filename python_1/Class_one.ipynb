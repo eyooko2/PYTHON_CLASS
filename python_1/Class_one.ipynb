{
 "cells": [
  {
   "cell_type": "code",
   "execution_count": 5,
   "id": "58b30b8b",
   "metadata": {
    "scrolled": true
   },
   "outputs": [
    {
     "name": "stdout",
     "output_type": "stream",
     "text": [
      "Hello class\n"
     ]
    }
   ],
   "source": [
    "print(\"Hello class\")"
   ]
  },
  {
   "cell_type": "code",
   "execution_count": 2,
   "id": "d0c25d9a",
   "metadata": {},
   "outputs": [
    {
     "name": "stdout",
     "output_type": "stream",
     "text": [
      "<class 'str'>\n"
     ]
    }
   ],
   "source": [
    "print(type(\"hello class!\"))"
   ]
  },
  {
   "cell_type": "code",
   "execution_count": 4,
   "id": "a48d6144",
   "metadata": {},
   "outputs": [
    {
     "name": "stdout",
     "output_type": "stream",
     "text": [
      "my name is Eyo Okon and i am 12 years old!\n"
     ]
    }
   ],
   "source": [
    "print(\"my name is Eyo Okon and i am 12 years old!\")"
   ]
  },
  {
   "cell_type": "code",
   "execution_count": 7,
   "id": "749d24f9",
   "metadata": {},
   "outputs": [
    {
     "name": "stdout",
     "output_type": "stream",
     "text": [
      "5051\n"
     ]
    }
   ],
   "source": [
    "print(\"50\" + \"51\")"
   ]
  },
  {
   "cell_type": "code",
   "execution_count": 8,
   "id": "f51a46e0",
   "metadata": {},
   "outputs": [
    {
     "name": "stdout",
     "output_type": "stream",
     "text": [
      "13.9\n"
     ]
    }
   ],
   "source": [
    "print(10.9 + 3)"
   ]
  },
  {
   "cell_type": "code",
   "execution_count": 9,
   "id": "1b59886c",
   "metadata": {},
   "outputs": [
    {
     "name": "stdout",
     "output_type": "stream",
     "text": [
      "True\n"
     ]
    }
   ],
   "source": [
    "print(5==5)"
   ]
  },
  {
   "cell_type": "code",
   "execution_count": 11,
   "id": "53e8d623",
   "metadata": {},
   "outputs": [
    {
     "name": "stdout",
     "output_type": "stream",
     "text": [
      "<class 'str'>\n"
     ]
    }
   ],
   "source": [
    "print(type(\"true\"))"
   ]
  },
  {
   "cell_type": "code",
   "execution_count": 12,
   "id": "0a0477ac",
   "metadata": {},
   "outputs": [
    {
     "name": "stdout",
     "output_type": "stream",
     "text": [
      "True\n"
     ]
    }
   ],
   "source": [
    "print(10==(2*5))"
   ]
  },
  {
   "cell_type": "code",
   "execution_count": 13,
   "id": "4bc30bf4",
   "metadata": {},
   "outputs": [
    {
     "name": "stdout",
     "output_type": "stream",
     "text": [
      "<class 'bool'>\n"
     ]
    }
   ],
   "source": [
    "print(type(True))"
   ]
  },
  {
   "cell_type": "code",
   "execution_count": 14,
   "id": "c07f917e",
   "metadata": {},
   "outputs": [
    {
     "name": "stdout",
     "output_type": "stream",
     "text": [
      "<class 'float'>\n"
     ]
    }
   ],
   "source": [
    "print(type(10.01))"
   ]
  },
  {
   "cell_type": "code",
   "execution_count": 15,
   "id": "c56dd23d",
   "metadata": {},
   "outputs": [
    {
     "name": "stdout",
     "output_type": "stream",
     "text": [
      "enter your name here: Eyo Okon\n",
      "enter your age here: 15\n",
      "My name is, Eyo Okon and i am 15 years old!\n"
     ]
    }
   ],
   "source": [
    "name = input(\"enter your name here: \")\n",
    "age = input(\"enter your age here: \")\n",
    "print(f\"My name is, {name} and i am {age} years old!\")"
   ]
  },
  {
   "cell_type": "code",
   "execution_count": 16,
   "id": "a309192d",
   "metadata": {},
   "outputs": [
    {
     "name": "stdout",
     "output_type": "stream",
     "text": [
      "26.926\n"
     ]
    }
   ],
   "source": [
    "a = 10\n",
    "b = 25\n",
    "##pythagoras theorem\n",
    "c = ((a**2) + (b**2))**(1/2)\n",
    "print(round(c, 3))"
   ]
  },
  {
   "cell_type": "code",
   "execution_count": 17,
   "id": "76ac7714",
   "metadata": {},
   "outputs": [
    {
     "name": "stdout",
     "output_type": "stream",
     "text": [
      "1.5874010519681994\n"
     ]
    }
   ],
   "source": [
    "print(4**(1/3))"
   ]
  },
  {
   "cell_type": "code",
   "execution_count": 3,
   "id": "3aff9599",
   "metadata": {},
   "outputs": [
    {
     "name": "stdout",
     "output_type": "stream",
     "text": [
      "enter name: Eyo\n",
      "enter year of birth: 1998\n",
      "my name is Eyo and i am 25.0 years old\n"
     ]
    }
   ],
   "source": [
    "name = input(\"enter name: \")\n",
    "yb = float(input(\"enter year of birth: \"))\n",
    "print(f\"my name is {name} and i am {2023-yb} years old\")"
   ]
  },
  {
   "cell_type": "code",
   "execution_count": 4,
   "id": "15217b27",
   "metadata": {},
   "outputs": [
    {
     "name": "stdout",
     "output_type": "stream",
     "text": [
      "enter name: Eyo\n",
      "enter year of birth: 1998\n",
      "my name is Eyo and i am 25 years old\n"
     ]
    }
   ],
   "source": [
    "name = input(\"enter name: \")\n",
    "yb = int(input(\"enter year of birth: \"))\n",
    "print(f\"my name is {name} and i am {2023-yb} years old\")"
   ]
  },
  {
   "cell_type": "markdown",
   "id": "4cf77081",
   "metadata": {},
   "source": [
    "Conditionals"
   ]
  },
  {
   "cell_type": "code",
   "execution_count": 1,
   "id": "329e6ef4",
   "metadata": {},
   "outputs": [
    {
     "name": "stdout",
     "output_type": "stream",
     "text": [
      "enter temperature value: 45\n",
      "temperature is very high\n"
     ]
    }
   ],
   "source": [
    "temp = float(input(\"enter temperature value: \"))\n",
    "if temp > 20:\n",
    "    print(\"temperature is very high\")\n",
    "elif temp >=10 and temp <=18:\n",
    "    print(\"temperature is moderate\")\n",
    "elif temp >=1 and temp <8:\n",
    "    print(\"temperature is quite lowe\")\n",
    "elif temp <= 0:\n",
    "    print(\"extremely deadly temperature\")\n",
    "else:\n",
    "    print(\"input not understood\")\n",
    "    "
   ]
  },
  {
   "cell_type": "code",
   "execution_count": 2,
   "id": "9286a710",
   "metadata": {},
   "outputs": [
    {
     "name": "stdout",
     "output_type": "stream",
     "text": [
      "enter age: 45\n",
      "enter sex: f\n",
      "an adult female\n"
     ]
    }
   ],
   "source": [
    "age = int(input(\"enter age: \"))\n",
    "sex = input(\"enter sex: \").lower()\n",
    "\n",
    "if age >= 20:\n",
    "    if sex == \"f\":\n",
    "        print(\"an adult female\")\n",
    "    elif sex == \"m\":\n",
    "        print(\"an adult male\")\n",
    "        \n",
    "elif age >= 13 and age <= 19:\n",
    "    if sex == \"f\":\n",
    "        print(\"a teenage female\")\n",
    "    elif sex == \"m\":\n",
    "        print(\"a teenage male\")\n",
    "        \n",
    "elif age <= 12:\n",
    "    if sex == \"f\":\n",
    "        print(\"a child female\")\n",
    "    elif sex == \"m\":\n",
    "        print(\"a child male\")\n",
    "        \n",
    "else:\n",
    "    print(\"No input available\")"
   ]
  },
  {
   "cell_type": "code",
   "execution_count": null,
   "id": "7b5e6382",
   "metadata": {},
   "outputs": [],
   "source": [
    "temp_value = float(input(\"enter temperature value here: \"))\n",
    "unit = input(\"enter unit->f/c: \").lower()\n",
    "\n",
    "if unit == \"f\":\n",
    "    temp = (temp_value - 32) * (5/9)\n",
    "    if temp <= 100:\n",
    "        kel = 273 + temp\n",
    "        print(f\"the temperature value of {temp_value} fahrenhiet is {round(kel, 3)} kelvin\")\n",
    "    else:\n",
    "        print(f\"the temperature value of {temp_value} fahrenhiet is {round(temp, 3)} celcuis\")\n",
    "        \n",
    "elif unit == \"c\":\n",
    "    temp = (temp_value * (9/5)) + 32\n",
    "    print(f\"the temperature value of {temp_value} celcius is {round(temp, 3)} fahrenheit\")\n",
    "else:\n",
    "    print(\"input not understood\")"
   ]
  },
  {
   "cell_type": "markdown",
   "id": "c8ce8151",
   "metadata": {},
   "source": [
    "# ASSIGNMENT_ONE"
   ]
  },
  {
   "cell_type": "markdown",
   "id": "67d9f53c",
   "metadata": {},
   "source": [
    "# Question_1\n",
    "BMI --> BODY MASS INDEX\n",
    "range of value that constitutes high, low and average"
   ]
  },
  {
   "cell_type": "code",
   "execution_count": 3,
   "id": "41a4bc75",
   "metadata": {},
   "outputs": [
    {
     "name": "stdout",
     "output_type": "stream",
     "text": [
      "Enter your height in cm: 83\n",
      "Enter your weight in kg: 56\n",
      "You BMI is 81.28901146755697\n",
      "You are severely obesity.\n"
     ]
    }
   ],
   "source": [
    "height = float(input(\"Enter your height in cm: \"))\n",
    "weight = float(input(\"Enter your weight in kg: \"))\n",
    "\n",
    "BMI = weight / (height/100)**2 #converting cemeters to meters\n",
    "\n",
    "print(f\"You BMI is {BMI}\") #printing body mass index\n",
    "\n",
    "if BMI <= 18.4:\n",
    "    print(\"You are underweight or low.\")\n",
    "elif BMI <= 24.9:\n",
    "    print(\"You are healthy. average\")\n",
    "elif BMI <= 29.9: \n",
    "    print(\"You are over weight. high\")\n",
    "elif BMI <= 34.9:\n",
    "    print(\"You are severely over weight.\")\n",
    "elif BMI <= 39.9:\n",
    "    print(\"You are obesity.\")\n",
    "else:\n",
    "    print(\"You are severely obesity.\")"
   ]
  },
  {
   "cell_type": "code",
   "execution_count": null,
   "id": "aa3f4baf",
   "metadata": {},
   "outputs": [],
   "source": []
  }
 ],
 "metadata": {
  "kernelspec": {
   "display_name": "Python 3 (ipykernel)",
   "language": "python",
   "name": "python3"
  },
  "language_info": {
   "codemirror_mode": {
    "name": "ipython",
    "version": 3
   },
   "file_extension": ".py",
   "mimetype": "text/x-python",
   "name": "python",
   "nbconvert_exporter": "python",
   "pygments_lexer": "ipython3",
   "version": "3.9.7"
  }
 },
 "nbformat": 4,
 "nbformat_minor": 5
}
