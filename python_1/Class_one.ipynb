{
 "cells": [
  {
   "cell_type": "code",
   "execution_count": 5,
   "id": "58b30b8b",
   "metadata": {
    "scrolled": true
   },
   "outputs": [
    {
     "name": "stdout",
     "output_type": "stream",
     "text": [
      "Hello class\n"
     ]
    }
   ],
   "source": [
    "print(\"Hello class\")"
   ]
  },
  {
   "cell_type": "code",
   "execution_count": 2,
   "id": "d0c25d9a",
   "metadata": {},
   "outputs": [
    {
     "name": "stdout",
     "output_type": "stream",
     "text": [
      "<class 'str'>\n"
     ]
    }
   ],
   "source": [
    "print(type(\"hello class!\"))"
   ]
  },
  {
   "cell_type": "code",
   "execution_count": 4,
   "id": "a48d6144",
   "metadata": {},
   "outputs": [
    {
     "name": "stdout",
     "output_type": "stream",
     "text": [
      "my name is Eyo Okon and i am 12 years old!\n"
     ]
    }
   ],
   "source": [
    "print(\"my name is Eyo Okon and i am 12 years old!\")"
   ]
  },
  {
   "cell_type": "code",
   "execution_count": 7,
   "id": "749d24f9",
   "metadata": {},
   "outputs": [
    {
     "name": "stdout",
     "output_type": "stream",
     "text": [
      "5051\n"
     ]
    }
   ],
   "source": [
    "print(\"50\" + \"51\")"
   ]
  },
  {
   "cell_type": "code",
   "execution_count": 8,
   "id": "f51a46e0",
   "metadata": {},
   "outputs": [
    {
     "name": "stdout",
     "output_type": "stream",
     "text": [
      "13.9\n"
     ]
    }
   ],
   "source": [
    "print(10.9 + 3)"
   ]
  },
  {
   "cell_type": "code",
   "execution_count": 9,
   "id": "1b59886c",
   "metadata": {},
   "outputs": [
    {
     "name": "stdout",
     "output_type": "stream",
     "text": [
      "True\n"
     ]
    }
   ],
   "source": [
    "print(5==5)"
   ]
  },
  {
   "cell_type": "code",
   "execution_count": 11,
   "id": "53e8d623",
   "metadata": {},
   "outputs": [
    {
     "name": "stdout",
     "output_type": "stream",
     "text": [
      "<class 'str'>\n"
     ]
    }
   ],
   "source": [
    "print(type(\"true\"))"
   ]
  },
  {
   "cell_type": "code",
   "execution_count": 12,
   "id": "0a0477ac",
   "metadata": {},
   "outputs": [
    {
     "name": "stdout",
     "output_type": "stream",
     "text": [
      "True\n"
     ]
    }
   ],
   "source": [
    "print(10==(2*5))"
   ]
  },
  {
   "cell_type": "code",
   "execution_count": 13,
   "id": "4bc30bf4",
   "metadata": {},
   "outputs": [
    {
     "name": "stdout",
     "output_type": "stream",
     "text": [
      "<class 'bool'>\n"
     ]
    }
   ],
   "source": [
    "print(type(True))"
   ]
  },
  {
   "cell_type": "code",
   "execution_count": 14,
   "id": "c07f917e",
   "metadata": {},
   "outputs": [
    {
     "name": "stdout",
     "output_type": "stream",
     "text": [
      "<class 'float'>\n"
     ]
    }
   ],
   "source": [
    "print(type(10.01))"
   ]
  },
  {
   "cell_type": "code",
   "execution_count": 15,
   "id": "c56dd23d",
   "metadata": {},
   "outputs": [
    {
     "name": "stdout",
     "output_type": "stream",
     "text": [
      "enter your name here: Eyo Okon\n",
      "enter your age here: 15\n",
      "My name is, Eyo Okon and i am 15 years old!\n"
     ]
    }
   ],
   "source": [
    "name = input(\"enter your name here: \")\n",
    "age = input(\"enter your age here: \")\n",
    "print(f\"My name is, {name} and i am {age} years old!\")"
   ]
  },
  {
   "cell_type": "code",
   "execution_count": 16,
   "id": "a309192d",
   "metadata": {},
   "outputs": [
    {
     "name": "stdout",
     "output_type": "stream",
     "text": [
      "26.926\n"
     ]
    }
   ],
   "source": [
    "a = 10\n",
    "b = 25\n",
    "##pythagoras theorem\n",
    "c = ((a**2) + (b**2))**(1/2)\n",
    "print(round(c, 3))"
   ]
  },
  {
   "cell_type": "code",
   "execution_count": 17,
   "id": "76ac7714",
   "metadata": {},
   "outputs": [
    {
     "name": "stdout",
     "output_type": "stream",
     "text": [
      "1.5874010519681994\n"
     ]
    }
   ],
   "source": [
    "print(4**(1/3))"
   ]
  },
  {
   "cell_type": "code",
   "execution_count": 3,
   "id": "3aff9599",
   "metadata": {},
   "outputs": [
    {
     "name": "stdout",
     "output_type": "stream",
     "text": [
      "enter name: Eyo\n",
      "enter year of birth: 1998\n",
      "my name is Eyo and i am 25.0 years old\n"
     ]
    }
   ],
   "source": [
    "name = input(\"enter name: \")\n",
    "yb = float(input(\"enter year of birth: \"))\n",
    "print(f\"my name is {name} and i am {2023-yb} years old\")"
   ]
  },
  {
   "cell_type": "code",
   "execution_count": 4,
   "id": "15217b27",
   "metadata": {},
   "outputs": [
    {
     "name": "stdout",
     "output_type": "stream",
     "text": [
      "enter name: Eyo\n",
      "enter year of birth: 1998\n",
      "my name is Eyo and i am 25 years old\n"
     ]
    }
   ],
   "source": [
    "name = input(\"enter name: \")\n",
    "yb = int(input(\"enter year of birth: \"))\n",
    "print(f\"my name is {name} and i am {2023-yb} years old\")"
   ]
  },
  {
   "cell_type": "markdown",
   "id": "4cf77081",
   "metadata": {},
   "source": [
    "# Conditionals"
   ]
  },
  {
   "cell_type": "code",
   "execution_count": 1,
   "id": "329e6ef4",
   "metadata": {},
   "outputs": [
    {
     "name": "stdout",
     "output_type": "stream",
     "text": [
      "enter temperature value: 45\n",
      "temperature is very high\n"
     ]
    }
   ],
   "source": [
    "temp = float(input(\"enter temperature value: \"))\n",
    "if temp > 20:\n",
    "    print(\"temperature is very high\")\n",
    "elif temp >=10 and temp <=18:\n",
    "    print(\"temperature is moderate\")\n",
    "elif temp >=1 and temp <8:\n",
    "    print(\"temperature is quite lowe\")\n",
    "elif temp <= 0:\n",
    "    print(\"extremely deadly temperature\")\n",
    "else:\n",
    "    print(\"input not understood\")\n",
    "    "
   ]
  },
  {
   "cell_type": "code",
   "execution_count": 2,
   "id": "9286a710",
   "metadata": {},
   "outputs": [
    {
     "name": "stdout",
     "output_type": "stream",
     "text": [
      "enter age: 45\n",
      "enter sex: f\n",
      "an adult female\n"
     ]
    }
   ],
   "source": [
    "age = int(input(\"enter age: \"))\n",
    "sex = input(\"enter sex: \").lower()\n",
    "\n",
    "if age >= 20:\n",
    "    if sex == \"f\":\n",
    "        print(\"an adult female\")\n",
    "    elif sex == \"m\":\n",
    "        print(\"an adult male\")\n",
    "        \n",
    "elif age >= 13 and age <= 19:\n",
    "    if sex == \"f\":\n",
    "        print(\"a teenage female\")\n",
    "    elif sex == \"m\":\n",
    "        print(\"a teenage male\")\n",
    "        \n",
    "elif age <= 12:\n",
    "    if sex == \"f\":\n",
    "        print(\"a child female\")\n",
    "    elif sex == \"m\":\n",
    "        print(\"a child male\")\n",
    "        \n",
    "else:\n",
    "    print(\"No input available\")"
   ]
  },
  {
   "cell_type": "markdown",
   "id": "02ba2282",
   "metadata": {},
   "source": [
    "# Tempearture conversion"
   ]
  },
  {
   "cell_type": "code",
   "execution_count": 8,
   "id": "7b5e6382",
   "metadata": {},
   "outputs": [
    {
     "name": "stdout",
     "output_type": "stream",
     "text": [
      "enter temperature value here: 67\n",
      "enter unit->f/c: f\n",
      "the temperature value of 67.0 fahrenhiet is 292.444 kelvin\n"
     ]
    }
   ],
   "source": [
    "temp_value = float(input(\"enter temperature value here: \"))\n",
    "unit = input(\"enter unit->f/c: \").lower()\n",
    "\n",
    "if unit == \"f\":\n",
    "    temp = (temp_value - 32) * (5/9)\n",
    "    if temp <= 100:\n",
    "        kel = 273 + temp\n",
    "        print(f\"the temperature value of {temp_value} fahrenhiet is {round(kel, 3)} kelvin\")\n",
    "    else:\n",
    "        print(f\"the temperature value of {temp_value} fahrenhiet is {round(temp, 3)} celcuis\")\n",
    "        \n",
    "elif unit == \"c\":\n",
    "    temp = (temp_value * (9/5)) + 32\n",
    "    print(f\"the temperature value of {temp_value} celcius is {round(temp, 3)} fahrenheit\")\n",
    "else:\n",
    "    print(\"input not understood\")"
   ]
  },
  {
   "cell_type": "markdown",
   "id": "c8ce8151",
   "metadata": {},
   "source": [
    "# ASSIGNMENT_ONE"
   ]
  },
  {
   "cell_type": "markdown",
   "id": "67d9f53c",
   "metadata": {},
   "source": [
    "# Question_1\n",
    "BMI --> BODY MASS INDEX\n",
    "range of value that constitutes high, low and average"
   ]
  },
  {
   "cell_type": "code",
   "execution_count": 3,
   "id": "41a4bc75",
   "metadata": {},
   "outputs": [
    {
     "name": "stdout",
     "output_type": "stream",
     "text": [
      "Enter your height in cm: 83\n",
      "Enter your weight in kg: 56\n",
      "You BMI is 81.28901146755697\n",
      "You are severely obesity.\n"
     ]
    }
   ],
   "source": [
    "height = float(input(\"Enter your height in cm: \"))\n",
    "weight = float(input(\"Enter your weight in kg: \"))\n",
    "\n",
    "BMI = weight / (height/100)**2 #converting cemeters to meters\n",
    "\n",
    "print(f\"You BMI is {BMI}\") #printing body mass index\n",
    "\n",
    "if BMI <= 18.4:\n",
    "    print(\"You are underweight or low.\")\n",
    "elif BMI <= 24.9:\n",
    "    print(\"You are healthy. average\")\n",
    "elif BMI <= 29.9: \n",
    "    print(\"You are over weight. high\")\n",
    "elif BMI <= 34.9:\n",
    "    print(\"You are severely over weight.\")\n",
    "elif BMI <= 39.9:\n",
    "    print(\"You are obesity.\")\n",
    "else:\n",
    "    print(\"You are severely obesity.\")"
   ]
  },
  {
   "cell_type": "code",
   "execution_count": 4,
   "id": "985e1209",
   "metadata": {},
   "outputs": [
    {
     "name": "stdout",
     "output_type": "stream",
     "text": [
      "enter weight value: 45\n",
      "enter height value: 56\n",
      "enter unit for weight: n\n",
      "enter unit for height: m\n",
      "this is my bmi value = 0.0014349489795918368 and it is low\n"
     ]
    }
   ],
   "source": [
    "weight = float(input(\"enter weight value: \"))\n",
    "height = float(input(\"enter height value: \"))\n",
    "unit_weight = input(\"enter unit for weight: \").lower()\n",
    "unit_height = input(\"enter unit for height: \").lower()\n",
    "bmi = (weight/10)/(height**2)\n",
    "\n",
    "if unit_weight == \"n\" and unit_height == \"m\":\n",
    "    if bmi >=25:\n",
    "        print(f\"my bmi is {bmi} and it is high!\")\n",
    "    elif bmi >=18 and bmi<= 24.9:\n",
    "        print(f\"my bmis is {bmi} and itis average\")\n",
    "    else:\n",
    "        print(f\"this is my bmi value = {bmi} and it is low\")\n",
    "\n",
    "\n",
    "else:\n",
    "    print(\"Unit not defined in the program!\")\n",
    "        \n",
    "# if unit_weight == \"p\" and unit_height == \"ft\":\n",
    "#     if bmi >=29:\n",
    "#         print(\"your bmi is high\")\n",
    "#     elif bmi >=15 and bmi<= 28:\n",
    "#         print(\"your bmi is average\")\n",
    "#     else:\n",
    "#         print(f\"this is my bmi value = {bmi} and it is low\")"
   ]
  },
  {
   "cell_type": "code",
   "execution_count": 7,
   "id": "59f18cd0",
   "metadata": {},
   "outputs": [
    {
     "name": "stdout",
     "output_type": "stream",
     "text": [
      "enter weight value (kg): 45\n",
      "enter height value(m): 56\n",
      "enter unit for weight: p\n",
      "enter unit for height: ft\n",
      "0.0029389768174156853\n"
     ]
    }
   ],
   "source": [
    "\n",
    "weight = float(input(\"enter weight value (kg): \"))\n",
    "height = float(input(\"enter height value(m): \"))\n",
    "unit_weight = input(\"enter unit for weight: \").lower()\n",
    "unit_height = input(\"enter unit for height: \").lower()\n",
    "##bmi = (weight/10)/(height**2)\n",
    "\n",
    "if unit_weight == \"n\" and unit_height == \"m\":\n",
    "    bmi = (weight*10)/(height**2)\n",
    "    if bmi >=25:\n",
    "        print(f\"my bmi is {bmi} and it is high!\")\n",
    "    elif bmi >=18 and bmi<= 24.9:\n",
    "        print(f\"my bmis is {bmi} and itis average\")\n",
    "    else:\n",
    "        print(f\"this is my bmi value = {bmi} and it is low\")\n",
    "    \n",
    "##Convert     \n",
    "elif unit_weight == \"p\" and unit_height == \"ft\":\n",
    "    bmi = (weight * 2.2046) / ((height*3.28084)**2)\n",
    "    print(f\"{bmi}\")\n",
    "    \n",
    "else:\n",
    "    print(\"Unit not defined in the program!\")\n",
    "    "
   ]
  },
  {
   "cell_type": "markdown",
   "id": "d70a5ecd",
   "metadata": {},
   "source": [
    "# List and Arrays"
   ]
  },
  {
   "cell_type": "code",
   "execution_count": 29,
   "id": "a9373b60",
   "metadata": {},
   "outputs": [
    {
     "name": "stdout",
     "output_type": "stream",
     "text": [
      "<class 'list'>\n"
     ]
    }
   ],
   "source": [
    "x = True\n",
    "b = [\"ada\", \"tobi\", 25, True, False, \"James\", \"Ben\", \"dan\",]\n",
    "print(type(b))"
   ]
  },
  {
   "cell_type": "code",
   "execution_count": 30,
   "id": "a2407145",
   "metadata": {},
   "outputs": [
    {
     "name": "stdout",
     "output_type": "stream",
     "text": [
      "['ada', 'tobi', 25, True, False, 'James', 'Ben', 'dan']\n"
     ]
    }
   ],
   "source": [
    "print(b)"
   ]
  },
  {
   "cell_type": "code",
   "execution_count": 33,
   "id": "166e8950",
   "metadata": {},
   "outputs": [
    {
     "data": {
      "text/plain": [
       "5"
      ]
     },
     "execution_count": 33,
     "metadata": {},
     "output_type": "execute_result"
    }
   ],
   "source": [
    "len(b[5])"
   ]
  },
  {
   "cell_type": "code",
   "execution_count": 32,
   "id": "58b55043",
   "metadata": {},
   "outputs": [
    {
     "data": {
      "text/plain": [
       "[25, True, False, 'James', 'Ben', 'dan']"
      ]
     },
     "execution_count": 32,
     "metadata": {},
     "output_type": "execute_result"
    }
   ],
   "source": [
    "b[2:]"
   ]
  },
  {
   "cell_type": "code",
   "execution_count": 34,
   "id": "15beb7e7",
   "metadata": {},
   "outputs": [
    {
     "data": {
      "text/plain": [
       "5"
      ]
     },
     "execution_count": 34,
     "metadata": {},
     "output_type": "execute_result"
    }
   ],
   "source": [
    "index_values = b.index(\"James\")\n",
    "index_values"
   ]
  },
  {
   "cell_type": "code",
   "execution_count": 35,
   "id": "d42fb080",
   "metadata": {},
   "outputs": [
    {
     "name": "stdout",
     "output_type": "stream",
     "text": [
      "[True, False, 'James', 'Ben', 'dan']\n"
     ]
    }
   ],
   "source": [
    "pos = b.index(25)\n",
    "after = b[pos+1:]\n",
    "print(after)"
   ]
  },
  {
   "cell_type": "code",
   "execution_count": 36,
   "id": "e8823c52",
   "metadata": {},
   "outputs": [
    {
     "name": "stdout",
     "output_type": "stream",
     "text": [
      "2\n"
     ]
    }
   ],
   "source": [
    "pos = b.index(25)\n",
    "print(pos)\n"
   ]
  },
  {
   "cell_type": "code",
   "execution_count": 37,
   "id": "607e943c",
   "metadata": {},
   "outputs": [
    {
     "name": "stdout",
     "output_type": "stream",
     "text": [
      "[True, False, 'James', 'Ben', 'dan']\n"
     ]
    }
   ],
   "source": [
    "after = b[pos+1:]\n",
    "print(after)"
   ]
  },
  {
   "cell_type": "code",
   "execution_count": 38,
   "id": "49149afc",
   "metadata": {},
   "outputs": [
    {
     "name": "stdout",
     "output_type": "stream",
     "text": [
      "['ada', 'tobi']\n"
     ]
    }
   ],
   "source": [
    "before = b[:pos]\n",
    "print(before)"
   ]
  },
  {
   "cell_type": "markdown",
   "id": "b29c9f77",
   "metadata": {},
   "source": [
    "# class work"
   ]
  },
  {
   "cell_type": "raw",
   "id": "fc46d676",
   "metadata": {},
   "source": [
    "1. if the age to vote is from 18 and above\n",
    "2. and the condition to vote requires a pvc\n",
    "write a program that ask users for their age and if they have pvc if they do, grant them access to vote if they dont do not grant them access to vote\n",
    "question 2\n",
    "if the person is qualified to vote\n",
    "if the person is from south, east they should vote obi if the person is from north, south west vote asiwju vote atiku"
   ]
  },
  {
   "cell_type": "code",
   "execution_count": 102,
   "id": "63200f84",
   "metadata": {},
   "outputs": [
    {
     "name": "stdout",
     "output_type": "stream",
     "text": [
      "please Enter your age here: 78\n",
      "Enter True or False: t\n",
      "access granted to vote\n"
     ]
    }
   ],
   "source": [
    "age = int(input(\"please Enter your age here: \"))\n",
    "pvc = bool(input(\"Enter True or False: \"))\n",
    "t = True\n",
    "f = False\n",
    "if age > 17 and pvc == t:\n",
    "    \n",
    "    print(\"access granted to vote\")\n",
    "    \n",
    "elif age >18 and pc == f:\n",
    "   \n",
    "    print(\"access denied to vote\")\n",
    "    \n",
    "else:\n",
    "    print(\"access denied to vote!!!\")\n",
    "\n",
    "\n"
   ]
  },
  {
   "cell_type": "raw",
   "id": "49f80a3e",
   "metadata": {},
   "source": [
    "1. if the age to vote is from 18 and above\n",
    "2. and the condition to vote requires a pvc\n",
    "write a program that ask users for their age and if they have pvc if they do, grant them access to vote if they dont do not grant them access to vote\n",
    "question 2\n",
    "if the person is qualified to vote\n",
    "if the person is from south, east they should vote obi if the person is from north, south west vote asiwju vote atiku"
   ]
  },
  {
   "cell_type": "code",
   "execution_count": 71,
   "id": "3f9b9347",
   "metadata": {},
   "outputs": [
    {
     "name": "stdout",
     "output_type": "stream",
     "text": [
      "enter age: 22\n",
      "do you have a pvc?: yes\n",
      "where is voter from?: south-west\n",
      "vote asiwaju!!!\n"
     ]
    }
   ],
   "source": [
    "age = int(input(\"enter age: \"))\n",
    "pvc = input(\"do you have a pvc?: \")\n",
    "voter = input(\"where is voter from?: \")\n",
    "\n",
    "if age >= 18 and pvc == \"yes\":\n",
    "    if voter == \"south-south\" or voter == \"east\":\n",
    "        print(\"vote obi\")\n",
    "    elif voter == \"north\" or voter == \"south-west\":\n",
    "        print (\"vote asiwaju!!!\")\n",
    "    else:\n",
    "        print(\"vote atiku\")\n",
    "        \n",
    "elif age < 18 and pvc == \"no\":\n",
    "    print(\"access denied to vote\")\n",
    "else:\n",
    "    print(\"access denied to vote!!!\")\n"
   ]
  },
  {
   "cell_type": "raw",
   "id": "bacbb4df",
   "metadata": {},
   "source": [
    "- if change in temperature of a house defines the \"livability\" of a house\n",
    "define t1 as input\n",
    "define t2 as input\n",
    "calculate the temperature change\n",
    "\n",
    "- if the temp is less than 0 celcius\n",
    "define kelvin by adding temperature + 273\n",
    "if temperature is greater than 500 kelvin say temperature is extremely low\n",
    "if temperature is less than 500 kelvin say temperature is moderately low\n",
    "\n",
    "\n",
    "- if the temp is greater than 0 celcius, say temperature is too high"
   ]
  },
  {
   "cell_type": "code",
   "execution_count": 39,
   "id": "b1560c49",
   "metadata": {},
   "outputs": [
    {
     "name": "stdout",
     "output_type": "stream",
     "text": [
      "enter t1: 45\n",
      "enter t2: 6\n",
      "234.0kelvin: temperature is moderrately low\n"
     ]
    }
   ],
   "source": [
    "t1 = float(input(\"enter t1: \"))\n",
    "t2 = float(input(\"enter t2: \"))\n",
    "temp = t2-t1\n",
    "\n",
    "if temp < 0:\n",
    "    kelvin = temp + 273\n",
    "    if kelvin > 500:\n",
    "        print(f\"{kelvin}kelvin: temperature is extremely low\")\n",
    "    elif kelvin < 500:\n",
    "        print(f\"{kelvin}kelvin: temperature is moderrately low\")\n",
    "        \n",
    "elif temp > 0:\n",
    "    print(f\"{temp}celcuis: temperature is too high\")\n",
    "    \n",
    "else:\n",
    "    print(\"inputs not understood!!!\")"
   ]
  },
  {
   "cell_type": "code",
   "execution_count": null,
   "id": "6de813eb",
   "metadata": {},
   "outputs": [],
   "source": []
  },
  {
   "cell_type": "markdown",
   "id": "92ea17f5",
   "metadata": {},
   "source": [
    "# Arrays \n",
    "-sort()\n",
    "-append()"
   ]
  },
  {
   "cell_type": "code",
   "execution_count": 84,
   "id": "2922ee63",
   "metadata": {},
   "outputs": [
    {
     "name": "stdout",
     "output_type": "stream",
     "text": [
      "[1, 3, 5, 10]\n"
     ]
    }
   ],
   "source": [
    "a = [1, 5, 10,3]\n",
    "a.sort()\n",
    "print(a)"
   ]
  },
  {
   "cell_type": "code",
   "execution_count": 85,
   "id": "ada3b701",
   "metadata": {},
   "outputs": [],
   "source": [
    "b = [6, 9, 10, 11]"
   ]
  },
  {
   "cell_type": "code",
   "execution_count": 86,
   "id": "9080d74a",
   "metadata": {},
   "outputs": [
    {
     "name": "stdout",
     "output_type": "stream",
     "text": [
      "[1, 3, 5, 10, 6, 9, 10, 11]\n"
     ]
    }
   ],
   "source": [
    "c = a + b\n",
    "print(c)"
   ]
  },
  {
   "cell_type": "code",
   "execution_count": 87,
   "id": "d8ce7f70",
   "metadata": {},
   "outputs": [
    {
     "name": "stdout",
     "output_type": "stream",
     "text": [
      "[1, 3, 5, 10, 6, 9, 10, 11, True]\n"
     ]
    }
   ],
   "source": [
    "c.append(True)\n",
    "print(c)"
   ]
  },
  {
   "cell_type": "code",
   "execution_count": 88,
   "id": "9307aa3c",
   "metadata": {},
   "outputs": [
    {
     "name": "stdout",
     "output_type": "stream",
     "text": [
      "[1, 3, 5, 10, 6, 9, 10, 11, True, [5, 10, 11]]\n"
     ]
    }
   ],
   "source": [
    "k =[5, 10, 11]\n",
    "c.append(k)\n",
    "print(c)"
   ]
  },
  {
   "cell_type": "markdown",
   "id": "369db113",
   "metadata": {},
   "source": [
    "# Forloop"
   ]
  },
  {
   "cell_type": "code",
   "execution_count": 89,
   "id": "414e083a",
   "metadata": {},
   "outputs": [
    {
     "name": "stdout",
     "output_type": "stream",
     "text": [
      "2\n",
      "4\n",
      "7\n",
      "9\n",
      "1\n"
     ]
    }
   ],
   "source": [
    "arr = [2, 4, 7, 9, 1]\n",
    "for i in arr:\n",
    "    print(i)"
   ]
  },
  {
   "cell_type": "code",
   "execution_count": 10,
   "id": "5431f828",
   "metadata": {},
   "outputs": [
    {
     "name": "stdout",
     "output_type": "stream",
     "text": [
      "7\n",
      "9\n",
      "1\n"
     ]
    }
   ],
   "source": [
    "for i in arr:\n",
    "    if i%2 !=0: \n",
    "        print(i) #print all the odd number in the array \n",
    "                 #% means division sign, i stand for index"
   ]
  },
  {
   "cell_type": "code",
   "execution_count": 11,
   "id": "8e10d3bb",
   "metadata": {},
   "outputs": [
    {
     "name": "stdout",
     "output_type": "stream",
     "text": [
      "[2, 4]\n",
      "[7, 9, 1]\n"
     ]
    }
   ],
   "source": [
    "\n",
    "arr = [2, 4, 7, 9, 1]\n",
    "arr1 = []\n",
    "arr2 = []\n",
    "for i in arr:\n",
    "    if i%2 != 0:\n",
    "        arr1.append(i) \n",
    "    if i%2 == 0:\n",
    "        arr2.append(i) \n",
    "print(arr2)# print all the even number in the array\n",
    "print(arr1)# print all the odd number in the arr\n"
   ]
  },
  {
   "cell_type": "code",
   "execution_count": 6,
   "id": "858db86e",
   "metadata": {},
   "outputs": [
    {
     "name": "stdout",
     "output_type": "stream",
     "text": [
      "True\n",
      "False\n",
      "10\n",
      "15.5\n",
      "21\n",
      "janeth\n",
      "tobi\n",
      "9\n",
      "True\n"
     ]
    }
   ],
   "source": [
    "a = [True, False, 10, 15.5, 21, \"janeth\", \"tobi\", 9, True]\n",
    "for i in  a:\n",
    "    print(i)"
   ]
  },
  {
   "cell_type": "code",
   "execution_count": 7,
   "id": "5f806c66",
   "metadata": {},
   "outputs": [
    {
     "name": "stdout",
     "output_type": "stream",
     "text": [
      "[True, False, 10, 15.5, 21, 'janeth', 'tobi', 9, True]\n",
      "[True, False, 10, 15.5, 21, 'janeth', 'tobi', 9, True]\n",
      "[True, False, 10, 15.5, 21, 'janeth', 'tobi', 9, True]\n",
      "[True, False, 10, 15.5, 21, 'janeth', 'tobi', 9, True]\n",
      "[True, False, 10, 15.5, 21, 'janeth', 'tobi', 9, True]\n",
      "[True, False, 10, 15.5, 21, 'janeth', 'tobi', 9, True]\n",
      "[True, False, 10, 15.5, 21, 'janeth', 'tobi', 9, True]\n",
      "[True, False, 10, 15.5, 21, 'janeth', 'tobi', 9, True]\n",
      "[True, False, 10, 15.5, 21, 'janeth', 'tobi', 9, True]\n"
     ]
    }
   ],
   "source": [
    "a = [True, False, 10, 15.5, 21, \"janeth\", \"tobi\", 9, True]\n",
    "for i in  a:\n",
    "    print(a)"
   ]
  },
  {
   "cell_type": "code",
   "execution_count": 111,
   "id": "3b939ee1",
   "metadata": {},
   "outputs": [
    {
     "name": "stdout",
     "output_type": "stream",
     "text": [
      "True\n",
      "False\n",
      "True\n"
     ]
    }
   ],
   "source": [
    "a = [True, False, 10, 15.5, 21, \"janeth\", \"tobi\", 9, True]\n",
    "for i in  a:\n",
    "    if type(i) == bool:\n",
    "        print(i)"
   ]
  },
  {
   "cell_type": "code",
   "execution_count": 41,
   "id": "735d17e2",
   "metadata": {},
   "outputs": [
    {
     "name": "stdout",
     "output_type": "stream",
     "text": [
      "15.5\n"
     ]
    }
   ],
   "source": [
    "a = [True, False, 10, 15.5, 21, \"janeth\", \"tobi\", 9, True]\n",
    "for i in  a:\n",
    "    if type(i) == float:\n",
    "        print(i)"
   ]
  },
  {
   "cell_type": "code",
   "execution_count": 42,
   "id": "647a8b6f",
   "metadata": {},
   "outputs": [
    {
     "name": "stdout",
     "output_type": "stream",
     "text": [
      "True\n"
     ]
    }
   ],
   "source": [
    "print(i)"
   ]
  },
  {
   "cell_type": "code",
   "execution_count": 43,
   "id": "b28a8364",
   "metadata": {},
   "outputs": [
    {
     "name": "stdout",
     "output_type": "stream",
     "text": [
      "[True, False, True]\n"
     ]
    }
   ],
   "source": [
    "p = []\n",
    "for i in a:\n",
    "    if type(i) == bool:\n",
    "        p.append(i)\n",
    "print(p)"
   ]
  },
  {
   "cell_type": "code",
   "execution_count": 44,
   "id": "95206252",
   "metadata": {},
   "outputs": [
    {
     "name": "stdout",
     "output_type": "stream",
     "text": [
      "[8, 5, 7, 3]\n"
     ]
    }
   ],
   "source": [
    "numb = [10, 16, 11, 8, 12, 5, 7, 3, 20]\n",
    "arr = []\n",
    "for i in numb:\n",
    "    if i < 10:\n",
    "        arr.append(i)\n",
    "print(arr)"
   ]
  },
  {
   "cell_type": "code",
   "execution_count": 113,
   "id": "ae0baea7",
   "metadata": {},
   "outputs": [
    {
     "name": "stdout",
     "output_type": "stream",
     "text": [
      "janeth\n",
      "tobi\n"
     ]
    }
   ],
   "source": [
    "a = [True, False, 10, 15.5, 21, \"janeth\", \"tobi\", 9, True]\n",
    "for i in  a:\n",
    "    if type(i) == str:\n",
    "        print(i)"
   ]
  },
  {
   "cell_type": "code",
   "execution_count": 121,
   "id": "30606260",
   "metadata": {},
   "outputs": [
    {
     "name": "stdout",
     "output_type": "stream",
     "text": [
      "10\n",
      "21\n",
      "9\n"
     ]
    }
   ],
   "source": [
    "a = [True, False, 10, 15.5, 21, \"janeth\", \"tobi\", 9, True]\n",
    "for i in  a:\n",
    "    if type(i) == int:\n",
    "        print(i)"
   ]
  },
  {
   "cell_type": "code",
   "execution_count": 114,
   "id": "1dd647c9",
   "metadata": {},
   "outputs": [
    {
     "name": "stdout",
     "output_type": "stream",
     "text": [
      "10\n",
      "16\n",
      "11\n",
      "8\n",
      "12\n",
      "5\n",
      "7\n",
      "3\n",
      "20\n"
     ]
    }
   ],
   "source": [
    "numb = [10, 16, 11, 8, 12, 5, 7, 3, 20]\n",
    "for i in numb:\n",
    "    print(i)"
   ]
  },
  {
   "cell_type": "code",
   "execution_count": 115,
   "id": "1e24ac45",
   "metadata": {},
   "outputs": [
    {
     "name": "stdout",
     "output_type": "stream",
     "text": [
      "[16, 11, 12, 20]\n"
     ]
    }
   ],
   "source": [
    "\n",
    "numb = [10, 16, 11, 8, 12, 5, 7, 3, 20]\n",
    "arr = []\n",
    "for i in numb:\n",
    "    if i > 10:\n",
    "        arr.append(i)\n",
    "print(arr)\n",
    "    "
   ]
  },
  {
   "cell_type": "code",
   "execution_count": 117,
   "id": "043368c8",
   "metadata": {},
   "outputs": [
    {
     "name": "stdout",
     "output_type": "stream",
     "text": [
      "[11, 5, 7, 3]\n"
     ]
    }
   ],
   "source": [
    "\n",
    "numb = [10, 16, 11, 8, 12, 5, 7, 3, 20]\n",
    "arr = []\n",
    "for i in numb:\n",
    "    if i%2 != 0:\n",
    "        arr.append(i)\n",
    "print(arr)\n"
   ]
  },
  {
   "cell_type": "code",
   "execution_count": 118,
   "id": "32e7e3db",
   "metadata": {},
   "outputs": [
    {
     "name": "stdout",
     "output_type": "stream",
     "text": [
      "[10, 16, 8, 12, 20]\n"
     ]
    }
   ],
   "source": [
    "numb = [10, 16, 11, 8, 12, 5, 7, 3, 20]\n",
    "arr = []\n",
    "for i in numb:\n",
    "    if i%2 == 0:\n",
    "        arr.append(i)\n",
    "print(arr)"
   ]
  },
  {
   "cell_type": "code",
   "execution_count": 120,
   "id": "65c64e5e",
   "metadata": {},
   "outputs": [
    {
     "name": "stdout",
     "output_type": "stream",
     "text": [
      "[11, 5, 7, 3]\n",
      "[10, 16, 8, 12, 20]\n"
     ]
    }
   ],
   "source": [
    "odd_numb = []\n",
    "even_numb = []\n",
    "for i in numb:\n",
    "    if i%2 == 0:\n",
    "        even_numb.append(i)\n",
    "    elif i%2 !=0:\n",
    "        odd_numb.append(i)\n",
    "print(odd_numb)\n",
    "print(even_numb)"
   ]
  },
  {
   "cell_type": "code",
   "execution_count": 126,
   "id": "a0e00d06",
   "metadata": {},
   "outputs": [
    {
     "name": "stdout",
     "output_type": "stream",
     "text": [
      "[10, 3, 56, 76, 45, 37, 5, 10]\n"
     ]
    }
   ],
   "source": [
    "arrays = [10, 3, 56, 76, 45, 37, 5, 10]\n",
    "print(arrays)"
   ]
  },
  {
   "cell_type": "code",
   "execution_count": 127,
   "id": "73860b64",
   "metadata": {},
   "outputs": [
    {
     "name": "stdout",
     "output_type": "stream",
     "text": [
      "10\n",
      "10\n"
     ]
    }
   ],
   "source": [
    "for i in arrays:\n",
    "    if i == 10:\n",
    "        print(i)"
   ]
  },
  {
   "cell_type": "code",
   "execution_count": 128,
   "id": "c678534e",
   "metadata": {},
   "outputs": [
    {
     "name": "stdout",
     "output_type": "stream",
     "text": [
      "(0, 10)\n",
      "(1, 3)\n",
      "(2, 56)\n",
      "(3, 76)\n",
      "(4, 45)\n",
      "(5, 37)\n",
      "(6, 5)\n",
      "(7, 10)\n"
     ]
    }
   ],
   "source": [
    "for i in enumerate(arrays):\n",
    "    print(i)"
   ]
  },
  {
   "cell_type": "code",
   "execution_count": 129,
   "id": "645084b5",
   "metadata": {},
   "outputs": [
    {
     "name": "stdout",
     "output_type": "stream",
     "text": [
      "0 10\n",
      "1 3\n",
      "2 56\n",
      "3 76\n",
      "4 45\n",
      "5 37\n",
      "6 5\n",
      "7 10\n"
     ]
    }
   ],
   "source": [
    "for i, b in enumerate(arrays):\n",
    "    print(i, b)"
   ]
  },
  {
   "cell_type": "code",
   "execution_count": 130,
   "id": "9feee361",
   "metadata": {},
   "outputs": [
    {
     "name": "stdout",
     "output_type": "stream",
     "text": [
      "0\n",
      "7\n"
     ]
    }
   ],
   "source": [
    "for i, b in enumerate(arrays):\n",
    "    if b== 10:\n",
    "        print(i)"
   ]
  },
  {
   "cell_type": "code",
   "execution_count": 131,
   "id": "53f5d0ad",
   "metadata": {},
   "outputs": [
    {
     "name": "stdout",
     "output_type": "stream",
     "text": [
      "0\n",
      "0\n"
     ]
    }
   ],
   "source": [
    "for i in arrays:\n",
    "    if i == 10:\n",
    "        print(arrays.index(i))"
   ]
  },
  {
   "cell_type": "code",
   "execution_count": 132,
   "id": "eb3123c9",
   "metadata": {},
   "outputs": [
    {
     "data": {
      "text/plain": [
       "0"
      ]
     },
     "execution_count": 132,
     "metadata": {},
     "output_type": "execute_result"
    }
   ],
   "source": [
    "z = [10, 1, 3, 4]\n",
    "z.index(10)"
   ]
  },
  {
   "cell_type": "code",
   "execution_count": 133,
   "id": "5438c124",
   "metadata": {},
   "outputs": [
    {
     "name": "stdout",
     "output_type": "stream",
     "text": [
      "4\n",
      "4\n"
     ]
    }
   ],
   "source": [
    "z = [13, 46, 56, 8, 10, 10]\n",
    "for i in z:\n",
    "    if i ==10:\n",
    "        print(z.index(i))"
   ]
  },
  {
   "cell_type": "code",
   "execution_count": 134,
   "id": "2cabec8d",
   "metadata": {},
   "outputs": [
    {
     "name": "stdout",
     "output_type": "stream",
     "text": [
      "4\n",
      "5\n"
     ]
    }
   ],
   "source": [
    "for i, b in enumerate(z):\n",
    "    if b == 10:\n",
    "        print(i)\n",
    "    "
   ]
  },
  {
   "cell_type": "code",
   "execution_count": 37,
   "id": "a41e6256",
   "metadata": {},
   "outputs": [
    {
     "name": "stdout",
     "output_type": "stream",
     "text": [
      "[0]\n",
      "[0, 2]\n",
      "[0, 2, 6]\n"
     ]
    }
   ],
   "source": [
    "k = [5, 1, 5, 10, 11, 9, 5, 1]\n",
    "\n",
    "index_values = []\n",
    "for i, b in enumerate(k):\n",
    "    if b == 5:\n",
    "        index_values.append(i)\n",
    "        print(index_values)"
   ]
  },
  {
   "cell_type": "code",
   "execution_count": 38,
   "id": "3fe75456",
   "metadata": {},
   "outputs": [
    {
     "name": "stdout",
     "output_type": "stream",
     "text": [
      "(0, 5)\n",
      "(1, 1)\n",
      "(2, 5)\n",
      "(3, 10)\n",
      "(4, 11)\n",
      "(5, 9)\n",
      "(6, 5)\n",
      "(7, 1)\n"
     ]
    }
   ],
   "source": [
    "for i in enumerate(k):\n",
    "    print(i)"
   ]
  },
  {
   "cell_type": "code",
   "execution_count": 39,
   "id": "0a4183ab",
   "metadata": {},
   "outputs": [
    {
     "data": {
      "text/plain": [
       "6"
      ]
     },
     "execution_count": 39,
     "metadata": {},
     "output_type": "execute_result"
    }
   ],
   "source": [
    "index_values[2]"
   ]
  },
  {
   "cell_type": "code",
   "execution_count": 40,
   "id": "58dff8fd",
   "metadata": {},
   "outputs": [
    {
     "name": "stdout",
     "output_type": "stream",
     "text": [
      "[0, 2, 6]\n"
     ]
    }
   ],
   "source": [
    "print(index_values)"
   ]
  },
  {
   "cell_type": "code",
   "execution_count": 42,
   "id": "e8fb89af",
   "metadata": {},
   "outputs": [
    {
     "data": {
      "text/plain": [
       "2"
      ]
     },
     "execution_count": 42,
     "metadata": {},
     "output_type": "execute_result"
    }
   ],
   "source": [
    "index_values[1]"
   ]
  },
  {
   "cell_type": "code",
   "execution_count": 46,
   "id": "09bcd02d",
   "metadata": {},
   "outputs": [
    {
     "data": {
      "text/plain": [
       "[10, 11, 9]"
      ]
     },
     "execution_count": 46,
     "metadata": {},
     "output_type": "execute_result"
    }
   ],
   "source": [
    "k[index_values[1]+1: index_values[2]]"
   ]
  },
  {
   "cell_type": "code",
   "execution_count": 74,
   "id": "4435da1e",
   "metadata": {},
   "outputs": [
    {
     "data": {
      "text/plain": [
       "[10, 11, 9]"
      ]
     },
     "execution_count": 74,
     "metadata": {},
     "output_type": "execute_result"
    }
   ],
   "source": [
    "k[index_values[1]+1:index_values[2]]"
   ]
  },
  {
   "cell_type": "code",
   "execution_count": null,
   "id": "58e6ed69",
   "metadata": {},
   "outputs": [],
   "source": []
  },
  {
   "cell_type": "markdown",
   "id": "048b0ecd",
   "metadata": {},
   "source": [
    "# Assignment_2"
   ]
  },
  {
   "cell_type": "raw",
   "id": "02335ace",
   "metadata": {},
   "source": [
    "1.lists = [11, 10, 8, 12, 1, 5, 6, 8, 10, 1, 8, 22, 8, 7, 4]\n",
    "get the index values of 8.\n",
    " get all the values after the second index value of 8.\n",
    "\n",
    "2.get all the food that start with a and store it inside and array\n",
    "  foods = [\"apple\", \"quava\", \"gari\", \"beans\", \"accara\", \"acute-bones\"]"
   ]
  },
  {
   "cell_type": "code",
   "execution_count": 13,
   "id": "1b23a62f",
   "metadata": {},
   "outputs": [
    {
     "name": "stdout",
     "output_type": "stream",
     "text": [
      "[11, 10, 8, 12, 1, 5, 6, 8, 10, 1, 8, 22, 8, 7, 4]\n"
     ]
    }
   ],
   "source": [
    "lists = [11, 10, 8, 12, 1, 5, 6, 8, 10, 1, 8, 22, 8, 7, 4]\n",
    "print(lists)"
   ]
  },
  {
   "cell_type": "code",
   "execution_count": 14,
   "id": "6b9e9190",
   "metadata": {},
   "outputs": [
    {
     "name": "stdout",
     "output_type": "stream",
     "text": [
      "(0, 11)\n",
      "(1, 10)\n",
      "(2, 8)\n",
      "(3, 12)\n",
      "(4, 1)\n",
      "(5, 5)\n",
      "(6, 6)\n",
      "(7, 8)\n",
      "(8, 10)\n",
      "(9, 1)\n",
      "(10, 8)\n",
      "(11, 22)\n",
      "(12, 8)\n",
      "(13, 7)\n",
      "(14, 4)\n"
     ]
    }
   ],
   "source": [
    "for i in enumerate(lists):\n",
    "    print(i)"
   ]
  },
  {
   "cell_type": "code",
   "execution_count": 15,
   "id": "6e3fe117",
   "metadata": {},
   "outputs": [
    {
     "name": "stdout",
     "output_type": "stream",
     "text": [
      "0 11\n",
      "1 10\n",
      "2 8\n",
      "3 12\n",
      "4 1\n",
      "5 5\n",
      "6 6\n",
      "7 8\n",
      "8 10\n",
      "9 1\n",
      "10 8\n",
      "11 22\n",
      "12 8\n",
      "13 7\n",
      "14 4\n"
     ]
    }
   ],
   "source": [
    "for i, b in enumerate(lists):\n",
    "    print(i, b)"
   ]
  },
  {
   "cell_type": "code",
   "execution_count": 16,
   "id": "47c014a6",
   "metadata": {},
   "outputs": [
    {
     "name": "stdout",
     "output_type": "stream",
     "text": [
      "2\n",
      "7\n",
      "10\n",
      "12\n"
     ]
    }
   ],
   "source": [
    "for i, b in enumerate(lists):\n",
    "    if b == 8:\n",
    "        print(i)"
   ]
  },
  {
   "cell_type": "code",
   "execution_count": 17,
   "id": "6bcdd437",
   "metadata": {},
   "outputs": [
    {
     "name": "stdout",
     "output_type": "stream",
     "text": [
      "[2, 7, 10, 12]\n"
     ]
    }
   ],
   "source": [
    "index_val = []\n",
    "for i, b in enumerate(lists):\n",
    "    if b == 8:\n",
    "        index_val.append(i)\n",
    "print(index_val)"
   ]
  },
  {
   "cell_type": "code",
   "execution_count": 18,
   "id": "2eebd75b",
   "metadata": {},
   "outputs": [
    {
     "data": {
      "text/plain": [
       "10"
      ]
     },
     "execution_count": 18,
     "metadata": {},
     "output_type": "execute_result"
    }
   ],
   "source": [
    "index_val[2]"
   ]
  },
  {
   "cell_type": "code",
   "execution_count": 19,
   "id": "4446b3a7",
   "metadata": {},
   "outputs": [
    {
     "data": {
      "text/plain": [
       "[10, 1, 8, 22]"
      ]
     },
     "execution_count": 19,
     "metadata": {},
     "output_type": "execute_result"
    }
   ],
   "source": [
    "lists[index_val[1]+1:index_val[3]]"
   ]
  },
  {
   "cell_type": "code",
   "execution_count": 20,
   "id": "50474a7b",
   "metadata": {},
   "outputs": [
    {
     "name": "stdout",
     "output_type": "stream",
     "text": [
      "0 apple\n",
      "1 quava\n",
      "2 gari\n",
      "3 beans\n",
      "4 accara\n",
      "5 acute-bones\n"
     ]
    }
   ],
   "source": [
    "foods = [\"apple\", \"quava\", \"gari\", \"beans\", \"accara\", \"acute-bones\"]\n",
    "for i, b in enumerate(foods):\n",
    "    print(i, b)"
   ]
  },
  {
   "cell_type": "code",
   "execution_count": 21,
   "id": "c6792db5",
   "metadata": {},
   "outputs": [
    {
     "name": "stdout",
     "output_type": "stream",
     "text": [
      "['apple']\n"
     ]
    }
   ],
   "source": [
    "\n",
    "foods = [\"apple\", \"quava\", \"gari\", \"beans\", \"accara\", \"acute-bones\"]\n",
    "index_vals = []\n",
    "for i, b in enumerate(foods):\n",
    "    if b == \"apple\":\n",
    "        index_vals.append(b)\n",
    "        print(index_vals)"
   ]
  },
  {
   "cell_type": "code",
   "execution_count": 30,
   "id": "57dc5859",
   "metadata": {},
   "outputs": [
    {
     "name": "stdout",
     "output_type": "stream",
     "text": [
      "['apple', 'accara', 'acute-bones']\n"
     ]
    }
   ],
   "source": [
    "a_foods = []\n",
    "for i in range(len(foods)):\n",
    "    pos = foods[i]\n",
    "    if pos[0] == \"a\":\n",
    "        a_foods.append(pos)\n",
    "print(a_foods)"
   ]
  },
  {
   "cell_type": "code",
   "execution_count": 33,
   "id": "6cd5c342",
   "metadata": {},
   "outputs": [
    {
     "name": "stdout",
     "output_type": "stream",
     "text": [
      "['apple', 'accara', 'acute-bones']\n"
     ]
    }
   ],
   "source": [
    "final_foods = []\n",
    "for i in foods:\n",
    "    if i[0] == \"a\":\n",
    "        final_foods.append(i)\n",
    "print(final_foods)"
   ]
  },
  {
   "cell_type": "raw",
   "id": "84013c15",
   "metadata": {},
   "source": [
    "3. if v is found in any of the food, print the food"
   ]
  },
  {
   "cell_type": "code",
   "execution_count": 35,
   "id": "a8c95ac8",
   "metadata": {},
   "outputs": [
    {
     "name": "stdout",
     "output_type": "stream",
     "text": [
      "quava\n"
     ]
    }
   ],
   "source": [
    "for i in foods:\n",
    "    if \"v\" in i:\n",
    "        print(i)"
   ]
  },
  {
   "cell_type": "code",
   "execution_count": null,
   "id": "2cfeffb2",
   "metadata": {},
   "outputs": [],
   "source": [
    "arry = [\"tobi\", \"Caleb\", \"camy\", \"samCy\"]\n",
    "#get all the elements that has c in it"
   ]
  },
  {
   "cell_type": "code",
   "execution_count": 1,
   "id": "7c652b17",
   "metadata": {},
   "outputs": [
    {
     "name": "stdout",
     "output_type": "stream",
     "text": [
      "camy\n"
     ]
    }
   ],
   "source": [
    "arry = [\"tobi\", \"Caleb\", \"camy\", \"samCy\"]\n",
    "for i in arry:\n",
    "    if \"c\" in i:\n",
    "        print(i)"
   ]
  },
  {
   "cell_type": "code",
   "execution_count": 6,
   "id": "296a8171",
   "metadata": {},
   "outputs": [
    {
     "name": "stdout",
     "output_type": "stream",
     "text": [
      "0 tobi\n",
      "1 Caleb\n",
      "2 camy\n",
      "3 samCy\n"
     ]
    }
   ],
   "source": [
    "arry = [\"tobi\", \"Caleb\", \"camy\", \"samCy\"]\n",
    "\n",
    "for i, b in enumerate(arry):\n",
    "    print(i,b)"
   ]
  },
  {
   "cell_type": "code",
   "execution_count": 66,
   "id": "67e0a7f4",
   "metadata": {},
   "outputs": [
    {
     "name": "stdout",
     "output_type": "stream",
     "text": [
      "['tobi', 'caleb', 'camy', 'samcy']\n"
     ]
    }
   ],
   "source": [
    "arry = [\"tobi\", \"Caleb\", \"camy\", \"samCy\"]\n",
    "arry_name = []\n",
    "for i in arry:\n",
    "    a = i.lower()\n",
    "    arry_name.append(a)\n",
    "print(arry_name)"
   ]
  },
  {
   "cell_type": "code",
   "execution_count": 67,
   "id": "0ab6b1e0",
   "metadata": {},
   "outputs": [
    {
     "name": "stdout",
     "output_type": "stream",
     "text": [
      "Caleb\n",
      "camy\n",
      "samCy\n"
     ]
    }
   ],
   "source": [
    "arry = [\"tobi\", \"Caleb\", \"camy\", \"samCy\"]\n",
    "for i in range(0, len(arry)):\n",
    "    if \"c\" in arry_name[i]:\n",
    "        print(arry[i])"
   ]
  },
  {
   "cell_type": "markdown",
   "id": "13a81f65",
   "metadata": {},
   "source": [
    "# RANGE"
   ]
  },
  {
   "cell_type": "code",
   "execution_count": 39,
   "id": "ff4c6280",
   "metadata": {},
   "outputs": [
    {
     "name": "stdout",
     "output_type": "stream",
     "text": [
      "0 2\n",
      "1 3\n",
      "2 4\n",
      "3 5\n",
      "4 6\n",
      "5 7\n",
      "6 8\n",
      "7 9\n",
      "8 10\n",
      "9 11\n",
      "10 12\n"
     ]
    }
   ],
   "source": [
    "for i in range(0, 10+1):\n",
    "    print(i, i+2)"
   ]
  },
  {
   "cell_type": "code",
   "execution_count": 40,
   "id": "c266f268",
   "metadata": {},
   "outputs": [
    {
     "name": "stdout",
     "output_type": "stream",
     "text": [
      "0\n",
      "1\n",
      "2\n",
      "3\n",
      "4\n",
      "5\n",
      "6\n",
      "7\n",
      "8\n",
      "9\n",
      "10\n"
     ]
    }
   ],
   "source": [
    "for i in range(0, 10+1):\n",
    "    print(i)"
   ]
  },
  {
   "cell_type": "code",
   "execution_count": 41,
   "id": "27219168",
   "metadata": {},
   "outputs": [
    {
     "name": "stdout",
     "output_type": "stream",
     "text": [
      "0\n",
      "1\n",
      "2\n",
      "3\n",
      "4\n",
      "5\n",
      "6\n",
      "7\n",
      "8\n",
      "9\n"
     ]
    }
   ],
   "source": [
    "for i in range(0, 10):\n",
    "    print(i)"
   ]
  },
  {
   "cell_type": "code",
   "execution_count": 43,
   "id": "d1e57b05",
   "metadata": {},
   "outputs": [
    {
     "name": "stdout",
     "output_type": "stream",
     "text": [
      "0 10\n",
      "1 12\n",
      "2 8\n",
      "3 6\n"
     ]
    }
   ],
   "source": [
    "arr =[10, 12 ,8, 6]\n",
    "for i in range(0, len(arr)):\n",
    "    print(i, arr[i])"
   ]
  },
  {
   "cell_type": "code",
   "execution_count": 44,
   "id": "0e5711d5",
   "metadata": {},
   "outputs": [
    {
     "name": "stdout",
     "output_type": "stream",
     "text": [
      "True\n"
     ]
    }
   ],
   "source": [
    "arr1 = [10, 15, 25, 30]\n",
    "arr2 = [14, 13, 17, 24]\n",
    "arr_diff = []\n",
    "if len(arr) == len(arr2):\n",
    "    for i in range(0, len(arr2)):\n",
    "        diff = arr2[i] - arr1[i]\n",
    "        arr_diff.append(diff)\n",
    "    print(True)\n"
   ]
  },
  {
   "cell_type": "code",
   "execution_count": 52,
   "id": "c0cd08ba",
   "metadata": {},
   "outputs": [
    {
     "name": "stdout",
     "output_type": "stream",
     "text": [
      "[4, -2, -8, -6]\n"
     ]
    }
   ],
   "source": [
    "arr1 = [10, 15, 25, 30]\n",
    "arr2 = [14, 13, 17, 24]\n",
    "arr_diff = []\n",
    "if len(arr1) == len(arr2):\n",
    "    for i in range(0, len(arr2)):\n",
    "        diff = arr2[i] - arr1[i]\n",
    "        arr_diff.append(diff)\n",
    "print(arr_diff)\n",
    "#else:\n",
    "   # print(False)\n",
    "#print(arr_diff)"
   ]
  },
  {
   "cell_type": "code",
   "execution_count": 53,
   "id": "72f85937",
   "metadata": {},
   "outputs": [
    {
     "name": "stdout",
     "output_type": "stream",
     "text": [
      "jude, emmanuel\n",
      "caleb, denise\n",
      "hilda, joe\n",
      "denim, kelvin\n"
     ]
    }
   ],
   "source": [
    "names = [\"jude\", \"caleb\", \"hilda\", \"denim\"]\n",
    "surname =[\"emmanuel\", \"denise\", \"joe\", \"kelvin\"]\n",
    "for i in range(0, len(names)):\n",
    "    fullname = f\"{names[i]}, {surname[i]}\"\n",
    "    print(fullname)"
   ]
  },
  {
   "cell_type": "code",
   "execution_count": 59,
   "id": "146eeb65",
   "metadata": {},
   "outputs": [
    {
     "name": "stdout",
     "output_type": "stream",
     "text": [
      "['jude, emmanuel', 'caleb, denise', 'hilda, joe', 'denim, kelvin']\n"
     ]
    }
   ],
   "source": [
    "names = [\"jude\", \"caleb\", \"hilda\", \"denim\"]\n",
    "surname =[\"emmanuel\", \"denise\", \"joe\", \"kelvin\"]\n",
    "all_name = []\n",
    "for i in range(0, len(names)):\n",
    "    fullname = f\"{names[i]}, {surname[i]}\"\n",
    "    #print(fullname)\n",
    "    all_name.append(fullname)\n",
    "print(all_name)"
   ]
  },
  {
   "cell_type": "markdown",
   "id": "f906e6bf",
   "metadata": {},
   "source": [
    "# Home_work"
   ]
  },
  {
   "cell_type": "code",
   "execution_count": null,
   "id": "f63233e9",
   "metadata": {},
   "outputs": [],
   "source": [
    "names = [\"jenny\", \"obi\", \"duke\"]\n",
    "second_name = [\"yola\", \"tami\", \"philips\"]\n",
    "ans = [\"Jenny Yola\", \"Obi Tami\", \"Duke Philips\"]"
   ]
  },
  {
   "cell_type": "code",
   "execution_count": 19,
   "id": "8ed24868",
   "metadata": {},
   "outputs": [
    {
     "name": "stdout",
     "output_type": "stream",
     "text": [
      "['Jenny Yola', 'Obi Tami', 'Duke Philips']\n"
     ]
    }
   ],
   "source": [
    "names = [\"jenny\", \"obi\", \"duke\"]\n",
    "second_name = [\"yola\", \"tami\", \"philips\"]\n",
    "arry_name = []\n",
    "for i in range(0, len(names)):\n",
    "    a = names[i][0].upper() + names[i][1:]\n",
    "    b = second_name[i][0].upper() + second_name[i][1:]\n",
    "    fullname = f\"{a} {b}\"\n",
    "    arry_name.append(fullname)\n",
    "print(arry_name)\n",
    "    \n",
    "    "
   ]
  },
  {
   "cell_type": "code",
   "execution_count": 49,
   "id": "791f16ec",
   "metadata": {},
   "outputs": [
    {
     "name": "stdout",
     "output_type": "stream",
     "text": [
      "a\n",
      "i\n",
      "s\n"
     ]
    }
   ],
   "source": [
    "names = [\"jenny\", \"obi\", \"duke\"]\n",
    "second_name = [\"yola\", \"tami\", \"philips\"] \n",
    "ans = [\"jennY yolA\", \"obI tamI\", \"dukE philipS\"]\n",
    " \n",
    "for i in range(0, len(second_name)):\n",
    "    a = second_name[i][-1]\n",
    "    print(a)"
   ]
  },
  {
   "cell_type": "code",
   "execution_count": 41,
   "id": "70dc9026",
   "metadata": {},
   "outputs": [
    {
     "name": "stdout",
     "output_type": "stream",
     "text": [
      "['jennY yolA', 'obI tamI', 'dukE philipS']\n"
     ]
    }
   ],
   "source": [
    "names = [\"jenny\", \"obi\", \"duke\"]\n",
    "second_name = [\"yola\", \"tami\", \"philips\"] \n",
    "ans = [\"jennY yolA\", \"obI tamI\", \"dukE philipS\"]\n",
    "arry2_name = []\n",
    "for i in range(0, len(names)):\n",
    "    a = names[i][:-1] + names[i][-1].upper()\n",
    "    b = second_name[i][:-1] + second_name[i][-1].upper()\n",
    "    fullname = f\"{a} {b}\"\n",
    "    arry2_name.append(fullname)\n",
    "print(arry2_name)\n",
    "    "
   ]
  },
  {
   "cell_type": "code",
   "execution_count": null,
   "id": "9d23a068",
   "metadata": {},
   "outputs": [],
   "source": [
    "\n",
    " "
   ]
  }
 ],
 "metadata": {
  "kernelspec": {
   "display_name": "Python 3 (ipykernel)",
   "language": "python",
   "name": "python3"
  },
  "language_info": {
   "codemirror_mode": {
    "name": "ipython",
    "version": 3
   },
   "file_extension": ".py",
   "mimetype": "text/x-python",
   "name": "python",
   "nbconvert_exporter": "python",
   "pygments_lexer": "ipython3",
   "version": "3.9.7"
  }
 },
 "nbformat": 4,
 "nbformat_minor": 5
}
